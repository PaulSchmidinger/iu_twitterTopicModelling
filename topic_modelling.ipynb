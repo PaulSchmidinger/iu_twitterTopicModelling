{
 "cells": [
  {
   "cell_type": "code",
   "execution_count": 12,
   "metadata": {},
   "outputs": [],
   "source": [
    "from datetime import datetime\n",
    "import glob\n",
    "import pandas as pd\n",
    "import re\n",
    "from bertopic import BERTopic\n",
    "from sentence_transformers import SentenceTransformer\n",
    "from umap import UMAP\n",
    "from hdbscan import HDBSCAN\n",
    "from sklearn.feature_extraction.text import CountVectorizer\n",
    "from bertopic.vectorizers import ClassTfidfTransformer\n",
    "import nltk\n",
    "from sklearn.metrics.pairwise import cosine_similarity"
   ]
  },
  {
   "cell_type": "code",
   "execution_count": 13,
   "metadata": {},
   "outputs": [],
   "source": [
    "#functions\n",
    "def createTwDB():\n",
    "    \"\"\"\n",
    "    Creates a consolidated DataFrame from multiple CSV files containing tweet data,\n",
    "    and saves the resulting DataFrame to a CSV file.\n",
    "\n",
    "    Returns:\n",
    "    str: The filename of the saved CSV file containing all the tweets.\n",
    "    \"\"\"\n",
    "    all_files = glob.glob(\"savedTweets/*/*.csv\")\n",
    "\n",
    "    #ceate df from all files\n",
    "    li_tw_files = []\n",
    "    for f in all_files:\n",
    "        df = pd.read_csv(f, index_col=None, header=None, sep=\"\\t\")\n",
    "        li_tw_files.append(df)\n",
    "    df_tw = pd.concat(li_tw_files, axis=0, ignore_index=True)\n",
    "    df_tw.columns = ['id', 'user', 'created_at', 'source', 'in_reply_to_status_id', 'in_reply_to_user_id', 'in_reply_to_screen_name', 'retweet_count', 'text']\n",
    "    df_tw = df_tw.set_index(\"id\")\n",
    "\n",
    "    #save df\n",
    "    filename = \"savedTweets/db_all_tweets.csv\"\n",
    "    df_tw.to_csv(filename, sep=\"\\t\", encoding=\"utf-8\")\n",
    "\n",
    "    return filename\n",
    "\n",
    "\n",
    "def extract_hashtags(text):\n",
    "    \"\"\"\n",
    "    Extracts hashtags from the given text.\n",
    "\n",
    "    Args:\n",
    "    text (str): The text from which hashtags will be extracted.\n",
    "\n",
    "    Returns:\n",
    "    list: A list of hashtags found in the given text.\n",
    "    \"\"\"\n",
    "\n",
    "    return re.findall(r'#\\w+', text)"
   ]
  },
  {
   "cell_type": "code",
   "execution_count": 14,
   "metadata": {},
   "outputs": [],
   "source": [
    "#create tweet-database\n",
    "csv_tweets = createTwDB()"
   ]
  },
  {
   "cell_type": "code",
   "execution_count": 15,
   "metadata": {},
   "outputs": [
    {
     "data": {
      "text/html": [
       "<div>\n",
       "<style scoped>\n",
       "    .dataframe tbody tr th:only-of-type {\n",
       "        vertical-align: middle;\n",
       "    }\n",
       "\n",
       "    .dataframe tbody tr th {\n",
       "        vertical-align: top;\n",
       "    }\n",
       "\n",
       "    .dataframe thead th {\n",
       "        text-align: right;\n",
       "    }\n",
       "</style>\n",
       "<table border=\"1\" class=\"dataframe\">\n",
       "  <thead>\n",
       "    <tr style=\"text-align: right;\">\n",
       "      <th></th>\n",
       "      <th>id</th>\n",
       "      <th>user</th>\n",
       "      <th>created_at</th>\n",
       "      <th>source</th>\n",
       "      <th>in_reply_to_status_id</th>\n",
       "      <th>in_reply_to_user_id</th>\n",
       "      <th>in_reply_to_screen_name</th>\n",
       "      <th>retweet_count</th>\n",
       "      <th>text</th>\n",
       "    </tr>\n",
       "  </thead>\n",
       "  <tbody>\n",
       "    <tr>\n",
       "      <th>0</th>\n",
       "      <td>1457452860258520000</td>\n",
       "      <td>PaulSchmidinger</td>\n",
       "      <td>2021-11-07 21:00:14+00:00</td>\n",
       "      <td>Twitter Web App</td>\n",
       "      <td>NaN</td>\n",
       "      <td>NaN</td>\n",
       "      <td>NaN</td>\n",
       "      <td>0</td>\n",
       "      <td>Gleich geht's los! #ImZentrum</td>\n",
       "    </tr>\n",
       "    <tr>\n",
       "      <th>1</th>\n",
       "      <td>1457452886959480000</td>\n",
       "      <td>PaulSchmidinger</td>\n",
       "      <td>2021-11-07 21:00:21+00:00</td>\n",
       "      <td>Twitter Web App</td>\n",
       "      <td>NaN</td>\n",
       "      <td>NaN</td>\n",
       "      <td>NaN</td>\n",
       "      <td>0</td>\n",
       "      <td>Gleich geht's los mit ImZentrum</td>\n",
       "    </tr>\n",
       "    <tr>\n",
       "      <th>2</th>\n",
       "      <td>1457454027030020000</td>\n",
       "      <td>ExplainSimple</td>\n",
       "      <td>2021-11-07 21:04:52+00:00</td>\n",
       "      <td>Twitter Web App</td>\n",
       "      <td>NaN</td>\n",
       "      <td>222435529</td>\n",
       "      <td>ORFImZentrum</td>\n",
       "      <td>0</td>\n",
       "      <td>@ORFImZentrum Welchen radikalen Wandel es welt...</td>\n",
       "    </tr>\n",
       "    <tr>\n",
       "      <th>3</th>\n",
       "      <td>1457455881650670000</td>\n",
       "      <td>YveBiskupska</td>\n",
       "      <td>2021-11-07 21:12:15+00:00</td>\n",
       "      <td>Twitter for Android</td>\n",
       "      <td>NaN</td>\n",
       "      <td>NaN</td>\n",
       "      <td>NaN</td>\n",
       "      <td>0</td>\n",
       "      <td>Club of Rome ... das des no wer kennt... Heute...</td>\n",
       "    </tr>\n",
       "    <tr>\n",
       "      <th>4</th>\n",
       "      <td>1457457694214860000</td>\n",
       "      <td>StefanKaineder</td>\n",
       "      <td>2021-11-07 21:19:27+00:00</td>\n",
       "      <td>Twitter for iPhone</td>\n",
       "      <td>NaN</td>\n",
       "      <td>NaN</td>\n",
       "      <td>NaN</td>\n",
       "      <td>0</td>\n",
       "      <td>Jetzt geht’s los! Heute #imzentrum mit @reiter...</td>\n",
       "    </tr>\n",
       "  </tbody>\n",
       "</table>\n",
       "</div>"
      ],
      "text/plain": [
       "                    id             user                 created_at  \\\n",
       "0  1457452860258520000  PaulSchmidinger  2021-11-07 21:00:14+00:00   \n",
       "1  1457452886959480000  PaulSchmidinger  2021-11-07 21:00:21+00:00   \n",
       "2  1457454027030020000    ExplainSimple  2021-11-07 21:04:52+00:00   \n",
       "3  1457455881650670000     YveBiskupska  2021-11-07 21:12:15+00:00   \n",
       "4  1457457694214860000   StefanKaineder  2021-11-07 21:19:27+00:00   \n",
       "\n",
       "                source in_reply_to_status_id in_reply_to_user_id  \\\n",
       "0      Twitter Web App                   NaN                 NaN   \n",
       "1      Twitter Web App                   NaN                 NaN   \n",
       "2      Twitter Web App                   NaN           222435529   \n",
       "3  Twitter for Android                   NaN                 NaN   \n",
       "4   Twitter for iPhone                   NaN                 NaN   \n",
       "\n",
       "  in_reply_to_screen_name  retweet_count  \\\n",
       "0                     NaN              0   \n",
       "1                     NaN              0   \n",
       "2            ORFImZentrum              0   \n",
       "3                     NaN              0   \n",
       "4                     NaN              0   \n",
       "\n",
       "                                                text  \n",
       "0                      Gleich geht's los! #ImZentrum  \n",
       "1                    Gleich geht's los mit ImZentrum  \n",
       "2  @ORFImZentrum Welchen radikalen Wandel es welt...  \n",
       "3  Club of Rome ... das des no wer kennt... Heute...  \n",
       "4  Jetzt geht’s los! Heute #imzentrum mit @reiter...  "
      ]
     },
     "execution_count": 15,
     "metadata": {},
     "output_type": "execute_result"
    }
   ],
   "source": [
    "#create dataframe from tweet-database\n",
    "df_all_tweets = pd.read_csv(csv_tweets, sep = '\\t', encoding = 'utf-8')\n",
    "df_all_tweets.head()"
   ]
  },
  {
   "cell_type": "code",
   "execution_count": 16,
   "metadata": {},
   "outputs": [
    {
     "data": {
      "text/html": [
       "<div>\n",
       "<style scoped>\n",
       "    .dataframe tbody tr th:only-of-type {\n",
       "        vertical-align: middle;\n",
       "    }\n",
       "\n",
       "    .dataframe tbody tr th {\n",
       "        vertical-align: top;\n",
       "    }\n",
       "\n",
       "    .dataframe thead th {\n",
       "        text-align: right;\n",
       "    }\n",
       "</style>\n",
       "<table border=\"1\" class=\"dataframe\">\n",
       "  <thead>\n",
       "    <tr style=\"text-align: right;\">\n",
       "      <th></th>\n",
       "      <th>id</th>\n",
       "      <th>user</th>\n",
       "      <th>text</th>\n",
       "    </tr>\n",
       "  </thead>\n",
       "  <tbody>\n",
       "    <tr>\n",
       "      <th>0</th>\n",
       "      <td>1457452860258520000</td>\n",
       "      <td>PaulSchmidinger</td>\n",
       "      <td>gleich geht's los! #imzentrum</td>\n",
       "    </tr>\n",
       "    <tr>\n",
       "      <th>1</th>\n",
       "      <td>1457452886959480000</td>\n",
       "      <td>PaulSchmidinger</td>\n",
       "      <td>gleich geht's los mit imzentrum</td>\n",
       "    </tr>\n",
       "    <tr>\n",
       "      <th>2</th>\n",
       "      <td>1457454027030020000</td>\n",
       "      <td>ExplainSimple</td>\n",
       "      <td>@orfimzentrum welchen radikalen wandel es welt...</td>\n",
       "    </tr>\n",
       "    <tr>\n",
       "      <th>3</th>\n",
       "      <td>1457455881650670000</td>\n",
       "      <td>YveBiskupska</td>\n",
       "      <td>club of rome ... das des no wer kennt... heute...</td>\n",
       "    </tr>\n",
       "    <tr>\n",
       "      <th>4</th>\n",
       "      <td>1457457694214860000</td>\n",
       "      <td>StefanKaineder</td>\n",
       "      <td>jetzt geht’s los! heute #imzentrum mit @reiter...</td>\n",
       "    </tr>\n",
       "    <tr>\n",
       "      <th>...</th>\n",
       "      <td>...</td>\n",
       "      <td>...</td>\n",
       "      <td>...</td>\n",
       "    </tr>\n",
       "    <tr>\n",
       "      <th>16407</th>\n",
       "      <td>1493088225870684166</td>\n",
       "      <td>AmsHeier</td>\n",
       "      <td>selbst als schwerst süchtiger polittalk-junkie...</td>\n",
       "    </tr>\n",
       "    <tr>\n",
       "      <th>16408</th>\n",
       "      <td>1493080172240719874</td>\n",
       "      <td>HombergEv</td>\n",
       "      <td>rt @dieraffa: anschober: „es wäre schade, wenn...</td>\n",
       "    </tr>\n",
       "    <tr>\n",
       "      <th>16409</th>\n",
       "      <td>1493050211354267651</td>\n",
       "      <td>Kei_Neoption</td>\n",
       "      <td>„die nächsten wochen werden entscheidend sein“...</td>\n",
       "    </tr>\n",
       "    <tr>\n",
       "      <th>16410</th>\n",
       "      <td>1493046589774090241</td>\n",
       "      <td>Retseflis</td>\n",
       "      <td>rt @shirleyinaktiv: #gartlehner meint, dass ma...</td>\n",
       "    </tr>\n",
       "    <tr>\n",
       "      <th>16411</th>\n",
       "      <td>1493042469361045505</td>\n",
       "      <td>aehneelassma</td>\n",
       "      <td>rt @gruen_wald: also ich weiß nicht wie das be...</td>\n",
       "    </tr>\n",
       "  </tbody>\n",
       "</table>\n",
       "<p>16412 rows × 3 columns</p>\n",
       "</div>"
      ],
      "text/plain": [
       "                        id             user  \\\n",
       "0      1457452860258520000  PaulSchmidinger   \n",
       "1      1457452886959480000  PaulSchmidinger   \n",
       "2      1457454027030020000    ExplainSimple   \n",
       "3      1457455881650670000     YveBiskupska   \n",
       "4      1457457694214860000   StefanKaineder   \n",
       "...                    ...              ...   \n",
       "16407  1493088225870684166         AmsHeier   \n",
       "16408  1493080172240719874        HombergEv   \n",
       "16409  1493050211354267651     Kei_Neoption   \n",
       "16410  1493046589774090241        Retseflis   \n",
       "16411  1493042469361045505     aehneelassma   \n",
       "\n",
       "                                                    text  \n",
       "0                          gleich geht's los! #imzentrum  \n",
       "1                        gleich geht's los mit imzentrum  \n",
       "2      @orfimzentrum welchen radikalen wandel es welt...  \n",
       "3      club of rome ... das des no wer kennt... heute...  \n",
       "4      jetzt geht’s los! heute #imzentrum mit @reiter...  \n",
       "...                                                  ...  \n",
       "16407  selbst als schwerst süchtiger polittalk-junkie...  \n",
       "16408  rt @dieraffa: anschober: „es wäre schade, wenn...  \n",
       "16409  „die nächsten wochen werden entscheidend sein“...  \n",
       "16410  rt @shirleyinaktiv: #gartlehner meint, dass ma...  \n",
       "16411  rt @gruen_wald: also ich weiß nicht wie das be...  \n",
       "\n",
       "[16412 rows x 3 columns]"
      ]
     },
     "execution_count": 16,
     "metadata": {},
     "output_type": "execute_result"
    }
   ],
   "source": [
    "#select relevant columns and preprocess text\n",
    "df_tweets = df_all_tweets[['id','user','text']]\n",
    "df_tweets['text'] = df_tweets['text'].str.lower()\n",
    "df_tweets"
   ]
  },
  {
   "cell_type": "code",
   "execution_count": 17,
   "metadata": {},
   "outputs": [
    {
     "data": {
      "text/html": [
       "<div>\n",
       "<style scoped>\n",
       "    .dataframe tbody tr th:only-of-type {\n",
       "        vertical-align: middle;\n",
       "    }\n",
       "\n",
       "    .dataframe tbody tr th {\n",
       "        vertical-align: top;\n",
       "    }\n",
       "\n",
       "    .dataframe thead th {\n",
       "        text-align: right;\n",
       "    }\n",
       "</style>\n",
       "<table border=\"1\" class=\"dataframe\">\n",
       "  <thead>\n",
       "    <tr style=\"text-align: right;\">\n",
       "      <th></th>\n",
       "      <th>id</th>\n",
       "    </tr>\n",
       "    <tr>\n",
       "      <th>user</th>\n",
       "      <th></th>\n",
       "    </tr>\n",
       "  </thead>\n",
       "  <tbody>\n",
       "    <tr>\n",
       "      <th>KnutOgris</th>\n",
       "      <td>211</td>\n",
       "    </tr>\n",
       "    <tr>\n",
       "      <th>ORFImZentrum</th>\n",
       "      <td>155</td>\n",
       "    </tr>\n",
       "    <tr>\n",
       "      <th>drakkalas</th>\n",
       "      <td>151</td>\n",
       "    </tr>\n",
       "    <tr>\n",
       "      <th>TraudePinter</th>\n",
       "      <td>117</td>\n",
       "    </tr>\n",
       "    <tr>\n",
       "      <th>Mhs_ThatFace</th>\n",
       "      <td>104</td>\n",
       "    </tr>\n",
       "    <tr>\n",
       "      <th>marcus_didius</th>\n",
       "      <td>86</td>\n",
       "    </tr>\n",
       "    <tr>\n",
       "      <th>grafkaroly</th>\n",
       "      <td>84</td>\n",
       "    </tr>\n",
       "    <tr>\n",
       "      <th>reiterec</th>\n",
       "      <td>81</td>\n",
       "    </tr>\n",
       "    <tr>\n",
       "      <th>uebersleben</th>\n",
       "      <td>81</td>\n",
       "    </tr>\n",
       "    <tr>\n",
       "      <th>zuschoen</th>\n",
       "      <td>77</td>\n",
       "    </tr>\n",
       "  </tbody>\n",
       "</table>\n",
       "</div>"
      ],
      "text/plain": [
       "                id\n",
       "user              \n",
       "KnutOgris      211\n",
       "ORFImZentrum   155\n",
       "drakkalas      151\n",
       "TraudePinter   117\n",
       "Mhs_ThatFace   104\n",
       "marcus_didius   86\n",
       "grafkaroly      84\n",
       "reiterec        81\n",
       "uebersleben     81\n",
       "zuschoen        77"
      ]
     },
     "execution_count": 17,
     "metadata": {},
     "output_type": "execute_result"
    }
   ],
   "source": [
    "#count tweets per user\t\n",
    "df_tweets_count = df_tweets[['id','user']].groupby('user').count().sort_values(by='id',ascending=False)\n",
    "df_tweets_count.head(10)"
   ]
  },
  {
   "cell_type": "code",
   "execution_count": 18,
   "metadata": {},
   "outputs": [
    {
     "data": {
      "text/plain": [
       "hashtag\n",
       "#longcovid      298\n",
       "#zib2           268\n",
       "#petrovic       258\n",
       "#impfpflicht    235\n",
       "#orf            169\n",
       "#övp            152\n",
       "#wöginger       108\n",
       "#reich          102\n",
       "#im              99\n",
       "#sideletter      96\n",
       "dtype: int64"
      ]
     },
     "execution_count": 18,
     "metadata": {},
     "output_type": "execute_result"
    }
   ],
   "source": [
    "#extract hashtags\n",
    "df_tweets['hashtags'] = df_tweets['text'].apply(extract_hashtags)\n",
    "li_hashtags=[item for sublist in df_tweets['hashtags'].tolist() for item in sublist]\n",
    "df_hashtags = pd.DataFrame(li_hashtags, columns=['hashtag'])\n",
    "\n",
    "#count hashtags\n",
    "df_hashtags_count = df_hashtags.groupby('hashtag').size().sort_values(ascending=False)\n",
    "df_hashtags_count = df_hashtags_count.drop('#imzentrum')\n",
    "df_hashtags_count.head(10)"
   ]
  },
  {
   "cell_type": "markdown",
   "metadata": {},
   "source": [
    "**Brief discussion on the implications for Topic Modeling:**\n",
    "\n",
    "- Given the prominence of health-related hashtags, it is reasonable to expect that health-related topics, especially those related to COVID-19, may dominate the discussions.\n",
    "- Political topics, particularly those associated with the Austrian People's Party (#övp) and specific figures like August Wöginger, may also be significant. The hashtags regarding the ORF (Austrian Broadcasting Corporation) such as #zib2 refer to the fact, that the ZIB2 is the news show just before ImZentrum.\n",
    "- The variety of hashtags suggests a diverse range of topics, which could make topic modeling more challenging.\n",
    "\n",
    "-> This leads to the decision to remove hashtags and mentions from the text."
   ]
  },
  {
   "cell_type": "markdown",
   "metadata": {},
   "source": [
    "# Topic modelling"
   ]
  },
  {
   "cell_type": "code",
   "execution_count": 19,
   "metadata": {},
   "outputs": [
    {
     "name": "stderr",
     "output_type": "stream",
     "text": [
      "[nltk_data] Downloading package stopwords to\n",
      "[nltk_data]     C:\\Users\\PaulSchmidinger\\AppData\\Roaming\\nltk_data...\n",
      "[nltk_data]   Package stopwords is already up-to-date!\n"
     ]
    }
   ],
   "source": [
    "#download stopwords\n",
    "nltk.download('stopwords')\n",
    "german_stopwords = nltk.corpus.stopwords.words('german')\n",
    "\n",
    "#add elements to stopwords\n",
    "url_elements = [\"co\", \"https co\", \"https\", \"http\", \"www\", \"imzentrum\"]\n",
    "german_stopwords.extend(url_elements)\n",
    "\n",
    "#delete hastags and mentions from text\n",
    "df_tweets['text'] = df_tweets['text'].str.replace(r'@\\S+', '')\n",
    "df_tweets['text'] = df_tweets['text'].str.replace(r'#\\S+', '')"
   ]
  },
  {
   "cell_type": "code",
   "execution_count": 20,
   "metadata": {},
   "outputs": [],
   "source": [
    "# Define the model\n",
    "embedding_model = SentenceTransformer('paraphrase-multilingual-MiniLM-L12-v2')\n",
    "\n",
    "umap_model = UMAP(n_neighbors=15, n_components=5, min_dist=0.0, metric='cosine')\n",
    "hdbscan_model = HDBSCAN(min_cluster_size=15, metric='euclidean', cluster_selection_method='eom', prediction_data=True)\n",
    "vectorizer_model = CountVectorizer(stop_words=german_stopwords)\n",
    "ctfidf_model = ClassTfidfTransformer()\n",
    "\n",
    "# Create the model\n",
    "topic_model = BERTopic(\n",
    "  embedding_model=embedding_model,\n",
    "  umap_model=umap_model,\n",
    "  hdbscan_model=hdbscan_model,\n",
    "  vectorizer_model=vectorizer_model,\n",
    "  ctfidf_model=ctfidf_model,\n",
    "  calculate_probabilities=True,        \n",
    "  verbose=True,\n",
    "  language=\"german\"\n",
    ")"
   ]
  },
  {
   "cell_type": "code",
   "execution_count": 21,
   "metadata": {},
   "outputs": [
    {
     "name": "stderr",
     "output_type": "stream",
     "text": [
      "2024-01-28 23:25:13,140 - BERTopic - Embedding - Transforming documents to embeddings.\n"
     ]
    },
    {
     "data": {
      "application/vnd.jupyter.widget-view+json": {
       "model_id": "b20018320ee34e03978693b04a025fc6",
       "version_major": 2,
       "version_minor": 0
      },
      "text/plain": [
       "Batches:   0%|          | 0/513 [00:00<?, ?it/s]"
      ]
     },
     "metadata": {},
     "output_type": "display_data"
    },
    {
     "name": "stderr",
     "output_type": "stream",
     "text": [
      "2024-01-28 23:30:45,301 - BERTopic - Embedding - Completed ✓\n",
      "2024-01-28 23:30:45,301 - BERTopic - Dimensionality - Fitting the dimensionality reduction algorithm\n",
      "2024-01-28 23:31:21,649 - BERTopic - Dimensionality - Completed ✓\n",
      "2024-01-28 23:31:21,649 - BERTopic - Cluster - Start clustering the reduced embeddings\n",
      "2024-01-28 23:34:00,232 - BERTopic - Cluster - Completed ✓\n",
      "2024-01-28 23:34:00,422 - BERTopic - Representation - Extracting topics from clusters using representation models.\n",
      "2024-01-28 23:34:01,294 - BERTopic - Representation - Completed ✓\n"
     ]
    }
   ],
   "source": [
    "# Fit the model to data\n",
    "topics, _ = topic_model.fit_transform(df_tweets['text'])"
   ]
  },
  {
   "cell_type": "code",
   "execution_count": 22,
   "metadata": {},
   "outputs": [
    {
     "data": {
      "application/vnd.plotly.v1+json": {
       "config": {
        "plotlyServerURL": "https://plot.ly"
       },
       "data": [
        {
         "coloraxis": "coloraxis",
         "hovertemplate": "x: %{x}<br>y: %{y}<br>Similarity Score: %{z}<extra></extra>",
         "name": "0",
         "type": "heatmap",
         "x": [
          "0_evalinsinger_heute_danke",
          "1_impfpflicht_impfungen_ein...",
          "2_asymptomatis_nutzen_langz...",
          "3_ballondor_6qtlxtejde_best...",
          "4_österreich_austria_österr...",
          "5_politiker_neuwahlen_politik",
          "6_sendung_tv_gast",
          "7_petrovic_madeleine_bereiten",
          "8_ukraine_russland_putin",
          "9_1980er_übr_galt",
          "10_einmalzahlungen_nachhalt...",
          "11_hungrig_verständigen_sozia",
          "12_rauch_kallat_ziert",
          "13_diskussion_diskussionsru...",
          "14_homeoffice_arbeiterkamme...",
          "15_sinnloseste_deutschsprac...",
          "16_grünen_grün_pandemiefragen",
          "17_pcr_tests_teststrategie",
          "18_fatigue_gesamtstaatliche...",
          "19_regierung_bummerl_raffin...",
          "20_karoline_irmgrad_höchstr...",
          "21_fü_scherbenhaufen_beschä...",
          "22_pandemie_bundeskompetenz...",
          "23_abgesagt_stelzer_platter",
          "24_900_ihtiyacım_sondakika",
          "25_3g_nächsten_gestorben",
          "26_freiwillige_vuitton_louis",
          "27_lockdownjetzt_2gregel_qu...",
          "28_erkaufen_opfern_gesellsc...",
          "29_klimawandel_klimaschutz_..."
         ],
         "xaxis": "x",
         "y": [
          "0_evalinsinger_heute_danke",
          "1_impfpflicht_impfungen_ein...",
          "2_asymptomatis_nutzen_langz...",
          "3_ballondor_6qtlxtejde_best...",
          "4_österreich_austria_österr...",
          "5_politiker_neuwahlen_politik",
          "6_sendung_tv_gast",
          "7_petrovic_madeleine_bereiten",
          "8_ukraine_russland_putin",
          "9_1980er_übr_galt",
          "10_einmalzahlungen_nachhalt...",
          "11_hungrig_verständigen_sozia",
          "12_rauch_kallat_ziert",
          "13_diskussion_diskussionsru...",
          "14_homeoffice_arbeiterkamme...",
          "15_sinnloseste_deutschsprac...",
          "16_grünen_grün_pandemiefragen",
          "17_pcr_tests_teststrategie",
          "18_fatigue_gesamtstaatliche...",
          "19_regierung_bummerl_raffin...",
          "20_karoline_irmgrad_höchstr...",
          "21_fü_scherbenhaufen_beschä...",
          "22_pandemie_bundeskompetenz...",
          "23_abgesagt_stelzer_platter",
          "24_900_ihtiyacım_sondakika",
          "25_3g_nächsten_gestorben",
          "26_freiwillige_vuitton_louis",
          "27_lockdownjetzt_2gregel_qu...",
          "28_erkaufen_opfern_gesellsc...",
          "29_klimawandel_klimaschutz_..."
         ],
         "yaxis": "y",
         "z": [
          [
           1.000000238418579,
           0.5487205982208252,
           0.38537248969078064,
           0.8585101366043091,
           0.6794929504394531,
           0.6703200936317444,
           0.7884559631347656,
           0.7832741737365723,
           0.6111094951629639,
           0.5422957539558411,
           0.5383068323135376,
           0.4814628064632416,
           0.7427655458450317,
           0.7359904050827026,
           0.5917224884033203,
           0.8114701509475708,
           0.751519501209259,
           0.5689066648483276,
           0.3153972029685974,
           0.6216849684715271,
           0.5267723202705383,
           0.6555925011634827,
           0.6478162407875061,
           0.8232256770133972,
           0.6071873903274536,
           0.618783712387085,
           0.5127857327461243,
           0.8107120990753174,
           0.5067465305328369,
           0.541447639465332
          ],
          [
           0.5487205982208252,
           1,
           0.28829988837242126,
           0.5220466256141663,
           0.47712385654449463,
           0.5133631825447083,
           0.44252049922943115,
           0.5697869658470154,
           0.5556421279907227,
           0.5459071397781372,
           0.41700515151023865,
           0.3337950110435486,
           0.5129601955413818,
           0.5490162372589111,
           0.42300304770469666,
           0.5267531275749207,
           0.43719667196273804,
           0.5728151798248291,
           0.2764770984649658,
           0.5041838884353638,
           0.42897534370422363,
           0.4734450578689575,
           0.656638503074646,
           0.5233420133590698,
           0.3201627731323242,
           0.48600244522094727,
           0.4439171552658081,
           0.6695103049278259,
           0.33718910813331604,
           0.46706390380859375
          ],
          [
           0.38537248969078064,
           0.28829988837242126,
           0.9999998807907104,
           0.3188568949699402,
           0.19540178775787354,
           0.25393229722976685,
           0.27904045581817627,
           0.33684292435646057,
           0.2082715630531311,
           0.23053480684757233,
           0.2878522276878357,
           0.15789301693439484,
           0.24810147285461426,
           0.39303138852119446,
           0.2341640442609787,
           0.3910645842552185,
           0.2672473192214966,
           0.4756099581718445,
           0.5602678060531616,
           0.25139766931533813,
           0.18226727843284607,
           0.3073689639568329,
           0.3024789094924927,
           0.35754919052124023,
           0.18761920928955078,
           0.45023348927497864,
           0.25913310050964355,
           0.3160998821258545,
           0.20518045127391815,
           0.2621241807937622
          ],
          [
           0.8585101366043091,
           0.5220466256141663,
           0.3188568949699402,
           0.9999997615814209,
           0.6323345899581909,
           0.6326416730880737,
           0.7235196828842163,
           0.7211166024208069,
           0.5793303847312927,
           0.48884764313697815,
           0.5119224786758423,
           0.44876039028167725,
           0.6651706695556641,
           0.6526210308074951,
           0.5247085094451904,
           0.7381458282470703,
           0.699565052986145,
           0.48984795808792114,
           0.23821786046028137,
           0.588068962097168,
           0.4985221326351166,
           0.6227148771286011,
           0.6159387826919556,
           0.7007333040237427,
           0.5816816091537476,
           0.5256694555282593,
           0.45767056941986084,
           0.8475375175476074,
           0.5022383332252502,
           0.5586809515953064
          ],
          [
           0.6794929504394531,
           0.47712385654449463,
           0.19540178775787354,
           0.6323345899581909,
           1,
           0.6240072846412659,
           0.5694569945335388,
           0.595468282699585,
           0.7366424798965454,
           0.7482593059539795,
           0.5940139889717102,
           0.30558517575263977,
           0.5296614766120911,
           0.5982391238212585,
           0.48204219341278076,
           0.7305588722229004,
           0.5736489295959473,
           0.45768630504608154,
           0.22526535391807556,
           0.5832560658454895,
           0.523136556148529,
           0.5198858976364136,
           0.605125367641449,
           0.622413158416748,
           0.4412213861942291,
           0.3979184627532959,
           0.3910035490989685,
           0.6638408899307251,
           0.44828855991363525,
           0.5212600231170654
          ],
          [
           0.6703200936317444,
           0.5133631825447083,
           0.25393229722976685,
           0.6326416730880737,
           0.6240072846412659,
           1.0000003576278687,
           0.6203368306159973,
           0.6514229774475098,
           0.6871029138565063,
           0.4577072262763977,
           0.6961641311645508,
           0.4496331214904785,
           0.6690280437469482,
           0.7982429265975952,
           0.5681595802307129,
           0.7451659440994263,
           0.7068673372268677,
           0.48200005292892456,
           0.2661219537258148,
           0.8593231439590454,
           0.49369966983795166,
           0.8115342259407043,
           0.7388304471969604,
           0.6122162342071533,
           0.5158730745315552,
           0.4191341996192932,
           0.44457119703292847,
           0.6625248193740845,
           0.5761926770210266,
           0.5951603055000305
          ],
          [
           0.7884559631347656,
           0.44252049922943115,
           0.27904045581817627,
           0.7235196828842163,
           0.5694569945335388,
           0.6203368306159973,
           1,
           0.6696481704711914,
           0.5048999786376953,
           0.3693631589412689,
           0.42607176303863525,
           0.38212674856185913,
           0.5832565426826477,
           0.699378252029419,
           0.505538821220398,
           0.6891155242919922,
           0.6104032397270203,
           0.456153929233551,
           0.2246169149875641,
           0.5254607796669006,
           0.3855450749397278,
           0.5826799273490906,
           0.5784047245979309,
           0.7012079954147339,
           0.47386041283607483,
           0.46596765518188477,
           0.40587425231933594,
           0.6379750370979309,
           0.44184577465057373,
           0.47475218772888184
          ],
          [
           0.7832741737365723,
           0.5697869658470154,
           0.33684292435646057,
           0.7211166024208069,
           0.595468282699585,
           0.6514229774475098,
           0.6696481704711914,
           1.000000238418579,
           0.6387415528297424,
           0.516594409942627,
           0.5001569390296936,
           0.4172278046607971,
           0.7101590633392334,
           0.6786739826202393,
           0.516650915145874,
           0.7410241961479187,
           0.6927297115325928,
           0.5911387205123901,
           0.22964930534362793,
           0.5709699392318726,
           0.5226122140884399,
           0.6023330688476562,
           0.6376023292541504,
           0.7484686970710754,
           0.4858921766281128,
           0.5579570531845093,
           0.4744133949279785,
           0.7102717161178589,
           0.4530820846557617,
           0.4765035808086395
          ],
          [
           0.6111094951629639,
           0.5556421279907227,
           0.2082715630531311,
           0.5793303847312927,
           0.7366424798965454,
           0.6871029138565063,
           0.5048999786376953,
           0.6387415528297424,
           0.9999997615814209,
           0.5817745923995972,
           0.540080726146698,
           0.31152093410491943,
           0.5347377061843872,
           0.5746238827705383,
           0.43051183223724365,
           0.6890261769294739,
           0.5741084814071655,
           0.42599648237228394,
           0.20408600568771362,
           0.6217269897460938,
           0.47988587617874146,
           0.6002265214920044,
           0.6223061084747314,
           0.6244772672653198,
           0.5142879486083984,
           0.3681272268295288,
           0.3216930627822876,
           0.6966131329536438,
           0.41079020500183105,
           0.4898987412452698
          ],
          [
           0.5422957539558411,
           0.5459071397781372,
           0.23053480684757233,
           0.48884764313697815,
           0.7482593059539795,
           0.4577072262763977,
           0.3693631589412689,
           0.516594409942627,
           0.5817745923995972,
           0.9999998807907104,
           0.4944469928741455,
           0.2560591697692871,
           0.4858291745185852,
           0.4457324147224426,
           0.33779942989349365,
           0.6130115985870361,
           0.4544554352760315,
           0.3955112397670746,
           0.2063441276550293,
           0.45960748195648193,
           0.5570114850997925,
           0.41222211718559265,
           0.5672471523284912,
           0.5254151225090027,
           0.29264163970947266,
           0.44999009370803833,
           0.3623462915420532,
           0.5822532773017883,
           0.3593811094760895,
           0.43034130334854126
          ],
          [
           0.5383068323135376,
           0.41700515151023865,
           0.2878522276878357,
           0.5119224786758423,
           0.5940139889717102,
           0.6961641311645508,
           0.42607176303863525,
           0.5001569390296936,
           0.540080726146698,
           0.4944469928741455,
           1.000000238418579,
           0.43573302030563354,
           0.5252717137336731,
           0.5722472071647644,
           0.5887686014175415,
           0.587871789932251,
           0.6075986623764038,
           0.47934651374816895,
           0.3129943311214447,
           0.7573647499084473,
           0.4891480803489685,
           0.6679847836494446,
           0.6141582131385803,
           0.4705810844898224,
           0.4443994164466858,
           0.41325634717941284,
           0.5189903378486633,
           0.5205305218696594,
           0.608288049697876,
           0.6327180862426758
          ],
          [
           0.4814628064632416,
           0.3337950110435486,
           0.15789301693439484,
           0.44876039028167725,
           0.30558517575263977,
           0.4496331214904785,
           0.38212674856185913,
           0.4172278046607971,
           0.31152093410491943,
           0.2560591697692871,
           0.43573302030563354,
           1,
           0.4486370086669922,
           0.4488082528114319,
           0.408669114112854,
           0.4572458267211914,
           0.4099583923816681,
           0.38204967975616455,
           0.14556387066841125,
           0.4471703767776489,
           0.3962858319282532,
           0.4444614052772522,
           0.4174146056175232,
           0.3562495708465576,
           0.3865610361099243,
           0.40928733348846436,
           0.39367419481277466,
           0.37439966201782227,
           0.5210277438163757,
           0.3723183274269104
          ],
          [
           0.7427655458450317,
           0.5129601955413818,
           0.24810147285461426,
           0.6651706695556641,
           0.5296614766120911,
           0.6690280437469482,
           0.5832565426826477,
           0.7101590633392334,
           0.5347377061843872,
           0.4858291745185852,
           0.5252717137336731,
           0.4486370086669922,
           1.000000238418579,
           0.6720343232154846,
           0.4908679127693176,
           0.6615146398544312,
           0.6537548899650574,
           0.508775532245636,
           0.2397456169128418,
           0.6223238110542297,
           0.45520395040512085,
           0.6676592230796814,
           0.6360507011413574,
           0.6382293701171875,
           0.41610491275787354,
           0.48929327726364136,
           0.4736992120742798,
           0.6465563774108887,
           0.4919058382511139,
           0.5799248218536377
          ],
          [
           0.7359904050827026,
           0.5490162372589111,
           0.39303138852119446,
           0.6526210308074951,
           0.5982391238212585,
           0.7982429265975952,
           0.699378252029419,
           0.6786739826202393,
           0.5746238827705383,
           0.4457324147224426,
           0.5722472071647644,
           0.4488082528114319,
           0.6720343232154846,
           1,
           0.5777322053909302,
           0.83640456199646,
           0.6501221656799316,
           0.6080061197280884,
           0.34063953161239624,
           0.658630907535553,
           0.457913875579834,
           0.7048236131668091,
           0.6873912811279297,
           0.6181815266609192,
           0.42061880230903625,
           0.5203999876976013,
           0.508032500743866,
           0.6418395042419434,
           0.4940362572669983,
           0.574188232421875
          ],
          [
           0.5917224884033203,
           0.42300304770469666,
           0.2341640442609787,
           0.5247085094451904,
           0.48204219341278076,
           0.5681595802307129,
           0.505538821220398,
           0.516650915145874,
           0.43051183223724365,
           0.33779942989349365,
           0.5887686014175415,
           0.408669114112854,
           0.4908679127693176,
           0.5777322053909302,
           1.000000238418579,
           0.5221472978591919,
           0.5458523035049438,
           0.4788779318332672,
           0.39402860403060913,
           0.6261318922042847,
           0.36778414249420166,
           0.5195415616035461,
           0.5230503082275391,
           0.47431352734565735,
           0.3751213550567627,
           0.3971862196922302,
           0.4461287558078766,
           0.5582232475280762,
           0.4374453127384186,
           0.427750825881958
          ],
          [
           0.8114701509475708,
           0.5267531275749207,
           0.3910645842552185,
           0.7381458282470703,
           0.7305588722229004,
           0.7451659440994263,
           0.6891155242919922,
           0.7410241961479187,
           0.6890261769294739,
           0.6130115985870361,
           0.587871789932251,
           0.4572458267211914,
           0.6615146398544312,
           0.83640456199646,
           0.5221472978591919,
           1.0000001192092896,
           0.6881184577941895,
           0.5575322508811951,
           0.2426072657108307,
           0.6535531282424927,
           0.5334299802780151,
           0.6751273274421692,
           0.6634299755096436,
           0.6706358790397644,
           0.4496876001358032,
           0.5370566844940186,
           0.5080472826957703,
           0.6858425140380859,
           0.570509135723114,
           0.5140075087547302
          ],
          [
           0.751519501209259,
           0.43719667196273804,
           0.2672473192214966,
           0.699565052986145,
           0.5736489295959473,
           0.7068673372268677,
           0.6104032397270203,
           0.6927297115325928,
           0.5741084814071655,
           0.4544554352760315,
           0.6075986623764038,
           0.4099583923816681,
           0.6537548899650574,
           0.6501221656799316,
           0.5458523035049438,
           0.6881184577941895,
           1.000000238418579,
           0.46756455302238464,
           0.20190225541591644,
           0.6624816060066223,
           0.5042906999588013,
           0.6404556632041931,
           0.6735594272613525,
           0.6470732092857361,
           0.4861440062522888,
           0.46375930309295654,
           0.441814124584198,
           0.6702970862388611,
           0.5482533574104309,
           0.62079918384552
          ],
          [
           0.5689066648483276,
           0.5728151798248291,
           0.4756099581718445,
           0.48984795808792114,
           0.45768630504608154,
           0.48200005292892456,
           0.456153929233551,
           0.5911387205123901,
           0.42599648237228394,
           0.3955112397670746,
           0.47934651374816895,
           0.38204967975616455,
           0.508775532245636,
           0.6080061197280884,
           0.4788779318332672,
           0.5575322508811951,
           0.46756455302238464,
           1,
           0.36905544996261597,
           0.480928897857666,
           0.36304202675819397,
           0.4500890076160431,
           0.5173876285552979,
           0.5973823666572571,
           0.329546183347702,
           0.5394272804260254,
           0.5043732523918152,
           0.5341463088989258,
           0.3256523013114929,
           0.439115047454834
          ],
          [
           0.3153972029685974,
           0.2764770984649658,
           0.5602678060531616,
           0.23821786046028137,
           0.22526535391807556,
           0.2661219537258148,
           0.2246169149875641,
           0.22964930534362793,
           0.20408600568771362,
           0.2063441276550293,
           0.3129943311214447,
           0.14556387066841125,
           0.2397456169128418,
           0.34063953161239624,
           0.39402860403060913,
           0.2426072657108307,
           0.20190225541591644,
           0.36905544996261597,
           1.0000001192092896,
           0.2822081744670868,
           0.18486523628234863,
           0.28159481287002563,
           0.3271275758743286,
           0.2673358917236328,
           0.3083181381225586,
           0.3457765579223633,
           0.3223792314529419,
           0.369924396276474,
           0.12003900855779648,
           0.3109697103500366
          ],
          [
           0.6216849684715271,
           0.5041838884353638,
           0.25139766931533813,
           0.588068962097168,
           0.5832560658454895,
           0.8593231439590454,
           0.5254607796669006,
           0.5709699392318726,
           0.6217269897460938,
           0.45960748195648193,
           0.7573647499084473,
           0.4471703767776489,
           0.6223238110542297,
           0.658630907535553,
           0.6261318922042847,
           0.6535531282424927,
           0.6624816060066223,
           0.480928897857666,
           0.2822081744670868,
           1,
           0.4710599184036255,
           0.8052070736885071,
           0.7505508065223694,
           0.5439228415489197,
           0.496737539768219,
           0.41134586930274963,
           0.421236515045166,
           0.6628175377845764,
           0.5615895390510559,
           0.585747480392456
          ],
          [
           0.5267723202705383,
           0.42897534370422363,
           0.18226727843284607,
           0.4985221326351166,
           0.523136556148529,
           0.49369966983795166,
           0.3855450749397278,
           0.5226122140884399,
           0.47988587617874146,
           0.5570114850997925,
           0.4891480803489685,
           0.3962858319282532,
           0.45520395040512085,
           0.457913875579834,
           0.36778414249420166,
           0.5334299802780151,
           0.5042906999588013,
           0.36304202675819397,
           0.18486523628234863,
           0.4710599184036255,
           1,
           0.42079877853393555,
           0.49259161949157715,
           0.4870031476020813,
           0.32238972187042236,
           0.3491532504558563,
           0.314142107963562,
           0.48217859864234924,
           0.35783109068870544,
           0.38653481006622314
          ],
          [
           0.6555925011634827,
           0.4734450578689575,
           0.3073689639568329,
           0.6227148771286011,
           0.5198858976364136,
           0.8115342259407043,
           0.5826799273490906,
           0.6023330688476562,
           0.6002265214920044,
           0.41222211718559265,
           0.6679847836494446,
           0.4444614052772522,
           0.6676592230796814,
           0.7048236131668091,
           0.5195415616035461,
           0.6751273274421692,
           0.6404556632041931,
           0.4500890076160431,
           0.28159481287002563,
           0.8052070736885071,
           0.42079877853393555,
           0.9999998807907104,
           0.6898606419563293,
           0.5673249959945679,
           0.48882856965065,
           0.4607633352279663,
           0.35203927755355835,
           0.6288169622421265,
           0.5942060351371765,
           0.5858058929443359
          ],
          [
           0.6478162407875061,
           0.656638503074646,
           0.3024789094924927,
           0.6159387826919556,
           0.605125367641449,
           0.7388304471969604,
           0.5784047245979309,
           0.6376023292541504,
           0.6223061084747314,
           0.5672471523284912,
           0.6141582131385803,
           0.4174146056175232,
           0.6360507011413574,
           0.6873912811279297,
           0.5230503082275391,
           0.6634299755096436,
           0.6735594272613525,
           0.5173876285552979,
           0.3271275758743286,
           0.7505508065223694,
           0.49259161949157715,
           0.6898606419563293,
           1,
           0.5880067348480225,
           0.5500710010528564,
           0.4834921061992645,
           0.3831290006637573,
           0.7178597450256348,
           0.4384816884994507,
           0.736892819404602
          ],
          [
           0.8232256770133972,
           0.5233420133590698,
           0.35754919052124023,
           0.7007333040237427,
           0.622413158416748,
           0.6122162342071533,
           0.7012079954147339,
           0.7484686970710754,
           0.6244772672653198,
           0.5254151225090027,
           0.4705810844898224,
           0.3562495708465576,
           0.6382293701171875,
           0.6181815266609192,
           0.47431352734565735,
           0.6706358790397644,
           0.6470732092857361,
           0.5973823666572571,
           0.2673358917236328,
           0.5439228415489197,
           0.4870031476020813,
           0.5673249959945679,
           0.5880067348480225,
           0.9999999403953552,
           0.5298627018928528,
           0.5631037354469299,
           0.39095643162727356,
           0.7020992040634155,
           0.37216705083847046,
           0.4720132648944855
          ],
          [
           0.6071873903274536,
           0.3201627731323242,
           0.18761920928955078,
           0.5816816091537476,
           0.4412213861942291,
           0.5158730745315552,
           0.47386041283607483,
           0.4858921766281128,
           0.5142879486083984,
           0.29264163970947266,
           0.4443994164466858,
           0.3865610361099243,
           0.41610491275787354,
           0.42061880230903625,
           0.3751213550567627,
           0.4496876001358032,
           0.4861440062522888,
           0.329546183347702,
           0.3083181381225586,
           0.496737539768219,
           0.32238972187042236,
           0.48882856965065,
           0.5500710010528564,
           0.5298627018928528,
           0.9999998807907104,
           0.4382319450378418,
           0.2974969148635864,
           0.6116570234298706,
           0.3328586518764496,
           0.5271492600440979
          ],
          [
           0.618783712387085,
           0.48600244522094727,
           0.45023348927497864,
           0.5256694555282593,
           0.3979184627532959,
           0.4191341996192932,
           0.46596765518188477,
           0.5579570531845093,
           0.3681272268295288,
           0.44999009370803833,
           0.41325634717941284,
           0.40928733348846436,
           0.48929327726364136,
           0.5203999876976013,
           0.3971862196922302,
           0.5370566844940186,
           0.46375930309295654,
           0.5394272804260254,
           0.3457765579223633,
           0.41134586930274963,
           0.3491532504558563,
           0.4607633352279663,
           0.4834921061992645,
           0.5631037354469299,
           0.4382319450378418,
           1,
           0.32059383392333984,
           0.5322453379631042,
           0.2560546398162842,
           0.44777870178222656
          ],
          [
           0.5127857327461243,
           0.4439171552658081,
           0.25913310050964355,
           0.45767056941986084,
           0.3910035490989685,
           0.44457119703292847,
           0.40587425231933594,
           0.4744133949279785,
           0.3216930627822876,
           0.3623462915420532,
           0.5189903378486633,
           0.39367419481277466,
           0.4736992120742798,
           0.508032500743866,
           0.4461287558078766,
           0.5080472826957703,
           0.441814124584198,
           0.5043732523918152,
           0.3223792314529419,
           0.421236515045166,
           0.314142107963562,
           0.35203927755355835,
           0.3831290006637573,
           0.39095643162727356,
           0.2974969148635864,
           0.32059383392333984,
           0.9999999403953552,
           0.5045944452285767,
           0.4551854729652405,
           0.3522747755050659
          ],
          [
           0.8107120990753174,
           0.6695103049278259,
           0.3160998821258545,
           0.8475375175476074,
           0.6638408899307251,
           0.6625248193740845,
           0.6379750370979309,
           0.7102717161178589,
           0.6966131329536438,
           0.5822532773017883,
           0.5205305218696594,
           0.37439966201782227,
           0.6465563774108887,
           0.6418395042419434,
           0.5582232475280762,
           0.6858425140380859,
           0.6702970862388611,
           0.5341463088989258,
           0.369924396276474,
           0.6628175377845764,
           0.48217859864234924,
           0.6288169622421265,
           0.7178597450256348,
           0.7020992040634155,
           0.6116570234298706,
           0.5322453379631042,
           0.5045944452285767,
           1,
           0.4616488516330719,
           0.5576282739639282
          ],
          [
           0.5067465305328369,
           0.33718910813331604,
           0.20518045127391815,
           0.5022383332252502,
           0.44828855991363525,
           0.5761926770210266,
           0.44184577465057373,
           0.4530820846557617,
           0.41079020500183105,
           0.3593811094760895,
           0.608288049697876,
           0.5210277438163757,
           0.4919058382511139,
           0.4940362572669983,
           0.4374453127384186,
           0.570509135723114,
           0.5482533574104309,
           0.3256523013114929,
           0.12003900855779648,
           0.5615895390510559,
           0.35783109068870544,
           0.5942060351371765,
           0.4384816884994507,
           0.37216705083847046,
           0.3328586518764496,
           0.2560546398162842,
           0.4551854729652405,
           0.4616488516330719,
           1.000000238418579,
           0.407476544380188
          ],
          [
           0.541447639465332,
           0.46706390380859375,
           0.2621241807937622,
           0.5586809515953064,
           0.5212600231170654,
           0.5951603055000305,
           0.47475218772888184,
           0.4765035808086395,
           0.4898987412452698,
           0.43034130334854126,
           0.6327180862426758,
           0.3723183274269104,
           0.5799248218536377,
           0.574188232421875,
           0.427750825881958,
           0.5140075087547302,
           0.62079918384552,
           0.439115047454834,
           0.3109697103500366,
           0.585747480392456,
           0.38653481006622314,
           0.5858058929443359,
           0.736892819404602,
           0.4720132648944855,
           0.5271492600440979,
           0.44777870178222656,
           0.3522747755050659,
           0.5576282739639282,
           0.407476544380188,
           0.9999997615814209
          ]
         ]
        }
       ],
       "layout": {
        "coloraxis": {
         "colorbar": {
          "title": {
           "text": "Similarity Score"
          }
         },
         "colorscale": [
          [
           0,
           "rgb(247,252,240)"
          ],
          [
           0.125,
           "rgb(224,243,219)"
          ],
          [
           0.25,
           "rgb(204,235,197)"
          ],
          [
           0.375,
           "rgb(168,221,181)"
          ],
          [
           0.5,
           "rgb(123,204,196)"
          ],
          [
           0.625,
           "rgb(78,179,211)"
          ],
          [
           0.75,
           "rgb(43,140,190)"
          ],
          [
           0.875,
           "rgb(8,104,172)"
          ],
          [
           1,
           "rgb(8,64,129)"
          ]
         ]
        },
        "height": 800,
        "hoverlabel": {
         "bgcolor": "white",
         "font": {
          "family": "Rockwell",
          "size": 16
         }
        },
        "legend": {
         "title": {
          "text": "Trend"
         }
        },
        "margin": {
         "t": 60
        },
        "showlegend": true,
        "template": {
         "data": {
          "bar": [
           {
            "error_x": {
             "color": "#2a3f5f"
            },
            "error_y": {
             "color": "#2a3f5f"
            },
            "marker": {
             "line": {
              "color": "#E5ECF6",
              "width": 0.5
             },
             "pattern": {
              "fillmode": "overlay",
              "size": 10,
              "solidity": 0.2
             }
            },
            "type": "bar"
           }
          ],
          "barpolar": [
           {
            "marker": {
             "line": {
              "color": "#E5ECF6",
              "width": 0.5
             },
             "pattern": {
              "fillmode": "overlay",
              "size": 10,
              "solidity": 0.2
             }
            },
            "type": "barpolar"
           }
          ],
          "carpet": [
           {
            "aaxis": {
             "endlinecolor": "#2a3f5f",
             "gridcolor": "white",
             "linecolor": "white",
             "minorgridcolor": "white",
             "startlinecolor": "#2a3f5f"
            },
            "baxis": {
             "endlinecolor": "#2a3f5f",
             "gridcolor": "white",
             "linecolor": "white",
             "minorgridcolor": "white",
             "startlinecolor": "#2a3f5f"
            },
            "type": "carpet"
           }
          ],
          "choropleth": [
           {
            "colorbar": {
             "outlinewidth": 0,
             "ticks": ""
            },
            "type": "choropleth"
           }
          ],
          "contour": [
           {
            "colorbar": {
             "outlinewidth": 0,
             "ticks": ""
            },
            "colorscale": [
             [
              0,
              "#0d0887"
             ],
             [
              0.1111111111111111,
              "#46039f"
             ],
             [
              0.2222222222222222,
              "#7201a8"
             ],
             [
              0.3333333333333333,
              "#9c179e"
             ],
             [
              0.4444444444444444,
              "#bd3786"
             ],
             [
              0.5555555555555556,
              "#d8576b"
             ],
             [
              0.6666666666666666,
              "#ed7953"
             ],
             [
              0.7777777777777778,
              "#fb9f3a"
             ],
             [
              0.8888888888888888,
              "#fdca26"
             ],
             [
              1,
              "#f0f921"
             ]
            ],
            "type": "contour"
           }
          ],
          "contourcarpet": [
           {
            "colorbar": {
             "outlinewidth": 0,
             "ticks": ""
            },
            "type": "contourcarpet"
           }
          ],
          "heatmap": [
           {
            "colorbar": {
             "outlinewidth": 0,
             "ticks": ""
            },
            "colorscale": [
             [
              0,
              "#0d0887"
             ],
             [
              0.1111111111111111,
              "#46039f"
             ],
             [
              0.2222222222222222,
              "#7201a8"
             ],
             [
              0.3333333333333333,
              "#9c179e"
             ],
             [
              0.4444444444444444,
              "#bd3786"
             ],
             [
              0.5555555555555556,
              "#d8576b"
             ],
             [
              0.6666666666666666,
              "#ed7953"
             ],
             [
              0.7777777777777778,
              "#fb9f3a"
             ],
             [
              0.8888888888888888,
              "#fdca26"
             ],
             [
              1,
              "#f0f921"
             ]
            ],
            "type": "heatmap"
           }
          ],
          "heatmapgl": [
           {
            "colorbar": {
             "outlinewidth": 0,
             "ticks": ""
            },
            "colorscale": [
             [
              0,
              "#0d0887"
             ],
             [
              0.1111111111111111,
              "#46039f"
             ],
             [
              0.2222222222222222,
              "#7201a8"
             ],
             [
              0.3333333333333333,
              "#9c179e"
             ],
             [
              0.4444444444444444,
              "#bd3786"
             ],
             [
              0.5555555555555556,
              "#d8576b"
             ],
             [
              0.6666666666666666,
              "#ed7953"
             ],
             [
              0.7777777777777778,
              "#fb9f3a"
             ],
             [
              0.8888888888888888,
              "#fdca26"
             ],
             [
              1,
              "#f0f921"
             ]
            ],
            "type": "heatmapgl"
           }
          ],
          "histogram": [
           {
            "marker": {
             "pattern": {
              "fillmode": "overlay",
              "size": 10,
              "solidity": 0.2
             }
            },
            "type": "histogram"
           }
          ],
          "histogram2d": [
           {
            "colorbar": {
             "outlinewidth": 0,
             "ticks": ""
            },
            "colorscale": [
             [
              0,
              "#0d0887"
             ],
             [
              0.1111111111111111,
              "#46039f"
             ],
             [
              0.2222222222222222,
              "#7201a8"
             ],
             [
              0.3333333333333333,
              "#9c179e"
             ],
             [
              0.4444444444444444,
              "#bd3786"
             ],
             [
              0.5555555555555556,
              "#d8576b"
             ],
             [
              0.6666666666666666,
              "#ed7953"
             ],
             [
              0.7777777777777778,
              "#fb9f3a"
             ],
             [
              0.8888888888888888,
              "#fdca26"
             ],
             [
              1,
              "#f0f921"
             ]
            ],
            "type": "histogram2d"
           }
          ],
          "histogram2dcontour": [
           {
            "colorbar": {
             "outlinewidth": 0,
             "ticks": ""
            },
            "colorscale": [
             [
              0,
              "#0d0887"
             ],
             [
              0.1111111111111111,
              "#46039f"
             ],
             [
              0.2222222222222222,
              "#7201a8"
             ],
             [
              0.3333333333333333,
              "#9c179e"
             ],
             [
              0.4444444444444444,
              "#bd3786"
             ],
             [
              0.5555555555555556,
              "#d8576b"
             ],
             [
              0.6666666666666666,
              "#ed7953"
             ],
             [
              0.7777777777777778,
              "#fb9f3a"
             ],
             [
              0.8888888888888888,
              "#fdca26"
             ],
             [
              1,
              "#f0f921"
             ]
            ],
            "type": "histogram2dcontour"
           }
          ],
          "mesh3d": [
           {
            "colorbar": {
             "outlinewidth": 0,
             "ticks": ""
            },
            "type": "mesh3d"
           }
          ],
          "parcoords": [
           {
            "line": {
             "colorbar": {
              "outlinewidth": 0,
              "ticks": ""
             }
            },
            "type": "parcoords"
           }
          ],
          "pie": [
           {
            "automargin": true,
            "type": "pie"
           }
          ],
          "scatter": [
           {
            "fillpattern": {
             "fillmode": "overlay",
             "size": 10,
             "solidity": 0.2
            },
            "type": "scatter"
           }
          ],
          "scatter3d": [
           {
            "line": {
             "colorbar": {
              "outlinewidth": 0,
              "ticks": ""
             }
            },
            "marker": {
             "colorbar": {
              "outlinewidth": 0,
              "ticks": ""
             }
            },
            "type": "scatter3d"
           }
          ],
          "scattercarpet": [
           {
            "marker": {
             "colorbar": {
              "outlinewidth": 0,
              "ticks": ""
             }
            },
            "type": "scattercarpet"
           }
          ],
          "scattergeo": [
           {
            "marker": {
             "colorbar": {
              "outlinewidth": 0,
              "ticks": ""
             }
            },
            "type": "scattergeo"
           }
          ],
          "scattergl": [
           {
            "marker": {
             "colorbar": {
              "outlinewidth": 0,
              "ticks": ""
             }
            },
            "type": "scattergl"
           }
          ],
          "scattermapbox": [
           {
            "marker": {
             "colorbar": {
              "outlinewidth": 0,
              "ticks": ""
             }
            },
            "type": "scattermapbox"
           }
          ],
          "scatterpolar": [
           {
            "marker": {
             "colorbar": {
              "outlinewidth": 0,
              "ticks": ""
             }
            },
            "type": "scatterpolar"
           }
          ],
          "scatterpolargl": [
           {
            "marker": {
             "colorbar": {
              "outlinewidth": 0,
              "ticks": ""
             }
            },
            "type": "scatterpolargl"
           }
          ],
          "scatterternary": [
           {
            "marker": {
             "colorbar": {
              "outlinewidth": 0,
              "ticks": ""
             }
            },
            "type": "scatterternary"
           }
          ],
          "surface": [
           {
            "colorbar": {
             "outlinewidth": 0,
             "ticks": ""
            },
            "colorscale": [
             [
              0,
              "#0d0887"
             ],
             [
              0.1111111111111111,
              "#46039f"
             ],
             [
              0.2222222222222222,
              "#7201a8"
             ],
             [
              0.3333333333333333,
              "#9c179e"
             ],
             [
              0.4444444444444444,
              "#bd3786"
             ],
             [
              0.5555555555555556,
              "#d8576b"
             ],
             [
              0.6666666666666666,
              "#ed7953"
             ],
             [
              0.7777777777777778,
              "#fb9f3a"
             ],
             [
              0.8888888888888888,
              "#fdca26"
             ],
             [
              1,
              "#f0f921"
             ]
            ],
            "type": "surface"
           }
          ],
          "table": [
           {
            "cells": {
             "fill": {
              "color": "#EBF0F8"
             },
             "line": {
              "color": "white"
             }
            },
            "header": {
             "fill": {
              "color": "#C8D4E3"
             },
             "line": {
              "color": "white"
             }
            },
            "type": "table"
           }
          ]
         },
         "layout": {
          "annotationdefaults": {
           "arrowcolor": "#2a3f5f",
           "arrowhead": 0,
           "arrowwidth": 1
          },
          "autotypenumbers": "strict",
          "coloraxis": {
           "colorbar": {
            "outlinewidth": 0,
            "ticks": ""
           }
          },
          "colorscale": {
           "diverging": [
            [
             0,
             "#8e0152"
            ],
            [
             0.1,
             "#c51b7d"
            ],
            [
             0.2,
             "#de77ae"
            ],
            [
             0.3,
             "#f1b6da"
            ],
            [
             0.4,
             "#fde0ef"
            ],
            [
             0.5,
             "#f7f7f7"
            ],
            [
             0.6,
             "#e6f5d0"
            ],
            [
             0.7,
             "#b8e186"
            ],
            [
             0.8,
             "#7fbc41"
            ],
            [
             0.9,
             "#4d9221"
            ],
            [
             1,
             "#276419"
            ]
           ],
           "sequential": [
            [
             0,
             "#0d0887"
            ],
            [
             0.1111111111111111,
             "#46039f"
            ],
            [
             0.2222222222222222,
             "#7201a8"
            ],
            [
             0.3333333333333333,
             "#9c179e"
            ],
            [
             0.4444444444444444,
             "#bd3786"
            ],
            [
             0.5555555555555556,
             "#d8576b"
            ],
            [
             0.6666666666666666,
             "#ed7953"
            ],
            [
             0.7777777777777778,
             "#fb9f3a"
            ],
            [
             0.8888888888888888,
             "#fdca26"
            ],
            [
             1,
             "#f0f921"
            ]
           ],
           "sequentialminus": [
            [
             0,
             "#0d0887"
            ],
            [
             0.1111111111111111,
             "#46039f"
            ],
            [
             0.2222222222222222,
             "#7201a8"
            ],
            [
             0.3333333333333333,
             "#9c179e"
            ],
            [
             0.4444444444444444,
             "#bd3786"
            ],
            [
             0.5555555555555556,
             "#d8576b"
            ],
            [
             0.6666666666666666,
             "#ed7953"
            ],
            [
             0.7777777777777778,
             "#fb9f3a"
            ],
            [
             0.8888888888888888,
             "#fdca26"
            ],
            [
             1,
             "#f0f921"
            ]
           ]
          },
          "colorway": [
           "#636efa",
           "#EF553B",
           "#00cc96",
           "#ab63fa",
           "#FFA15A",
           "#19d3f3",
           "#FF6692",
           "#B6E880",
           "#FF97FF",
           "#FECB52"
          ],
          "font": {
           "color": "#2a3f5f"
          },
          "geo": {
           "bgcolor": "white",
           "lakecolor": "white",
           "landcolor": "#E5ECF6",
           "showlakes": true,
           "showland": true,
           "subunitcolor": "white"
          },
          "hoverlabel": {
           "align": "left"
          },
          "hovermode": "closest",
          "mapbox": {
           "style": "light"
          },
          "paper_bgcolor": "white",
          "plot_bgcolor": "#E5ECF6",
          "polar": {
           "angularaxis": {
            "gridcolor": "white",
            "linecolor": "white",
            "ticks": ""
           },
           "bgcolor": "#E5ECF6",
           "radialaxis": {
            "gridcolor": "white",
            "linecolor": "white",
            "ticks": ""
           }
          },
          "scene": {
           "xaxis": {
            "backgroundcolor": "#E5ECF6",
            "gridcolor": "white",
            "gridwidth": 2,
            "linecolor": "white",
            "showbackground": true,
            "ticks": "",
            "zerolinecolor": "white"
           },
           "yaxis": {
            "backgroundcolor": "#E5ECF6",
            "gridcolor": "white",
            "gridwidth": 2,
            "linecolor": "white",
            "showbackground": true,
            "ticks": "",
            "zerolinecolor": "white"
           },
           "zaxis": {
            "backgroundcolor": "#E5ECF6",
            "gridcolor": "white",
            "gridwidth": 2,
            "linecolor": "white",
            "showbackground": true,
            "ticks": "",
            "zerolinecolor": "white"
           }
          },
          "shapedefaults": {
           "line": {
            "color": "#2a3f5f"
           }
          },
          "ternary": {
           "aaxis": {
            "gridcolor": "white",
            "linecolor": "white",
            "ticks": ""
           },
           "baxis": {
            "gridcolor": "white",
            "linecolor": "white",
            "ticks": ""
           },
           "bgcolor": "#E5ECF6",
           "caxis": {
            "gridcolor": "white",
            "linecolor": "white",
            "ticks": ""
           }
          },
          "title": {
           "x": 0.05
          },
          "xaxis": {
           "automargin": true,
           "gridcolor": "white",
           "linecolor": "white",
           "ticks": "",
           "title": {
            "standoff": 15
           },
           "zerolinecolor": "white",
           "zerolinewidth": 2
          },
          "yaxis": {
           "automargin": true,
           "gridcolor": "white",
           "linecolor": "white",
           "ticks": "",
           "title": {
            "standoff": 15
           },
           "zerolinecolor": "white",
           "zerolinewidth": 2
          }
         }
        },
        "title": {
         "font": {
          "color": "Black",
          "size": 22
         },
         "text": "<b>Similarity Matrix</b>",
         "x": 0.55,
         "xanchor": "center",
         "y": 0.95,
         "yanchor": "top"
        },
        "width": 800,
        "xaxis": {
         "anchor": "y",
         "constrain": "domain",
         "domain": [
          0,
          1
         ],
         "scaleanchor": "y"
        },
        "yaxis": {
         "anchor": "x",
         "autorange": "reversed",
         "constrain": "domain",
         "domain": [
          0,
          1
         ]
        }
       }
      }
     },
     "metadata": {},
     "output_type": "display_data"
    }
   ],
   "source": [
    "#similarity heatmap\n",
    "topic_model.visualize_heatmap(top_n_topics=30)"
   ]
  },
  {
   "cell_type": "code",
   "execution_count": 23,
   "metadata": {},
   "outputs": [
    {
     "data": {
      "text/html": [
       "<div>\n",
       "<style scoped>\n",
       "    .dataframe tbody tr th:only-of-type {\n",
       "        vertical-align: middle;\n",
       "    }\n",
       "\n",
       "    .dataframe tbody tr th {\n",
       "        vertical-align: top;\n",
       "    }\n",
       "\n",
       "    .dataframe thead th {\n",
       "        text-align: right;\n",
       "    }\n",
       "</style>\n",
       "<table border=\"1\" class=\"dataframe\">\n",
       "  <thead>\n",
       "    <tr style=\"text-align: right;\">\n",
       "      <th></th>\n",
       "      <th>Topic 1</th>\n",
       "      <th>Topic 2</th>\n",
       "      <th>Similarity</th>\n",
       "    </tr>\n",
       "  </thead>\n",
       "  <tbody>\n",
       "    <tr>\n",
       "      <th>11532</th>\n",
       "      <td>41_horror_wahre_barbarakaufmann_experte</td>\n",
       "      <td>233_horror_wahre_barbarakaufmann_experte</td>\n",
       "      <td>0.995543</td>\n",
       "    </tr>\n",
       "    <tr>\n",
       "      <th>62988</th>\n",
       "      <td>233_horror_wahre_barbarakaufmann_experte</td>\n",
       "      <td>41_horror_wahre_barbarakaufmann_experte</td>\n",
       "      <td>0.995543</td>\n",
       "    </tr>\n",
       "    <tr>\n",
       "      <th>6101</th>\n",
       "      <td>21_fü_scherbenhaufen_beschäftigt_stehen</td>\n",
       "      <td>182_eva_scherbenhaufen_beschäftigt_stehen</td>\n",
       "      <td>0.700318</td>\n",
       "    </tr>\n",
       "    <tr>\n",
       "      <th>49249</th>\n",
       "      <td>182_eva_scherbenhaufen_beschäftigt_stehen</td>\n",
       "      <td>21_fü_scherbenhaufen_beschäftigt_stehen</td>\n",
       "      <td>0.700318</td>\n",
       "    </tr>\n",
       "  </tbody>\n",
       "</table>\n",
       "</div>"
      ],
      "text/plain": [
       "                                         Topic 1  \\\n",
       "11532    41_horror_wahre_barbarakaufmann_experte   \n",
       "62988   233_horror_wahre_barbarakaufmann_experte   \n",
       "6101     21_fü_scherbenhaufen_beschäftigt_stehen   \n",
       "49249  182_eva_scherbenhaufen_beschäftigt_stehen   \n",
       "\n",
       "                                         Topic 2  Similarity  \n",
       "11532   233_horror_wahre_barbarakaufmann_experte    0.995543  \n",
       "62988    41_horror_wahre_barbarakaufmann_experte    0.995543  \n",
       "6101   182_eva_scherbenhaufen_beschäftigt_stehen    0.700318  \n",
       "49249    21_fü_scherbenhaufen_beschäftigt_stehen    0.700318  "
      ]
     },
     "execution_count": 23,
     "metadata": {},
     "output_type": "execute_result"
    }
   ],
   "source": [
    "#similarity matrix\n",
    "sim_matrix = cosine_similarity(topic_model.c_tf_idf_)\n",
    "df_sim = pd.DataFrame(sim_matrix, columns=topic_model.topic_labels_.values(), index=topic_model.topic_labels_.values())\n",
    "df_sim = df_sim.stack().reset_index().sort_values(0, ascending=False)\n",
    "df_sim.columns = ['Topic 1', 'Topic 2', 'Similarity']\n",
    "\n",
    "#select where Topic 1 != Topic 2 AND Similarity > 0.65\n",
    "df_sim = df_sim[(df_sim['Topic 1'] != df_sim['Topic 2']) & (df_sim['Similarity'] > 0.65)]\n",
    "df_sim"
   ]
  },
  {
   "cell_type": "code",
   "execution_count": 24,
   "metadata": {},
   "outputs": [],
   "source": [
    "#merge topics\n",
    "topics_to_merge = [[41,233],[21,182]]\n",
    "topic_model.merge_topics(df_tweets['text'], topics_to_merge)"
   ]
  },
  {
   "cell_type": "code",
   "execution_count": 25,
   "metadata": {},
   "outputs": [
    {
     "name": "stderr",
     "output_type": "stream",
     "text": [
      "2024-01-28 23:34:25,939 - BERTopic - Topic reduction - Reducing number of topics\n"
     ]
    },
    {
     "name": "stderr",
     "output_type": "stream",
     "text": [
      "2024-01-28 23:34:26,727 - BERTopic - Topic reduction - Reduced number of topics from 267 to 15\n"
     ]
    },
    {
     "data": {
      "text/plain": [
       "<bertopic._bertopic.BERTopic at 0x1af3bf58a90>"
      ]
     },
     "execution_count": 25,
     "metadata": {},
     "output_type": "execute_result"
    }
   ],
   "source": [
    "# Further reduce topics\n",
    "topic_model.reduce_topics(df_tweets['text'], nr_topics=15)"
   ]
  },
  {
   "cell_type": "code",
   "execution_count": 26,
   "metadata": {},
   "outputs": [
    {
     "data": {
      "text/html": [
       "<div>\n",
       "<style scoped>\n",
       "    .dataframe tbody tr th:only-of-type {\n",
       "        vertical-align: middle;\n",
       "    }\n",
       "\n",
       "    .dataframe tbody tr th {\n",
       "        vertical-align: top;\n",
       "    }\n",
       "\n",
       "    .dataframe thead th {\n",
       "        text-align: right;\n",
       "    }\n",
       "</style>\n",
       "<table border=\"1\" class=\"dataframe\">\n",
       "  <thead>\n",
       "    <tr style=\"text-align: right;\">\n",
       "      <th></th>\n",
       "      <th>Topic</th>\n",
       "      <th>Count</th>\n",
       "      <th>Name</th>\n",
       "      <th>Representation</th>\n",
       "      <th>Representative_Docs</th>\n",
       "    </tr>\n",
       "  </thead>\n",
       "  <tbody>\n",
       "    <tr>\n",
       "      <th>0</th>\n",
       "      <td>-1</td>\n",
       "      <td>4028</td>\n",
       "      <td>-1_rt_schon_orf_mehr</td>\n",
       "      <td>[rt, schon, orf, mehr, ja, impfpflicht, reiter...</td>\n",
       "      <td>[rt @bertieroberts54: also eine frage beschäft...</td>\n",
       "    </tr>\n",
       "    <tr>\n",
       "      <th>1</th>\n",
       "      <td>0</td>\n",
       "      <td>9427</td>\n",
       "      <td>0_rt_orfimzentrum_övp_petrovic</td>\n",
       "      <td>[rt, orfimzentrum, övp, petrovic, covid, long,...</td>\n",
       "      <td>[rt @orfimzentrum: 💬„milde verläufe nutzen nic...</td>\n",
       "    </tr>\n",
       "    <tr>\n",
       "      <th>2</th>\n",
       "      <td>1</td>\n",
       "      <td>1336</td>\n",
       "      <td>1_impfpflicht_impfung_rt_virus</td>\n",
       "      <td>[impfpflicht, impfung, rt, virus, verschiedene...</td>\n",
       "      <td>[rt @shourahashemi: nein lieber gust, „das vir...</td>\n",
       "    </tr>\n",
       "    <tr>\n",
       "      <th>3</th>\n",
       "      <td>2</td>\n",
       "      <td>450</td>\n",
       "      <td>2_3000_kind_hungrig_verständigen</td>\n",
       "      <td>[3000, kind, hungrig, verständigen, wichtigste...</td>\n",
       "      <td>[rt @mom_inst: \"wir sollten uns darauf verstän...</td>\n",
       "    </tr>\n",
       "    <tr>\n",
       "      <th>4</th>\n",
       "      <td>3</td>\n",
       "      <td>424</td>\n",
       "      <td>3_österreich_lafilledevienne_inflation_menschen</td>\n",
       "      <td>[österreich, lafilledevienne, inflation, mensc...</td>\n",
       "      <td>[rt @lafilledevienne: 289.000 menschen sind in...</td>\n",
       "    </tr>\n",
       "    <tr>\n",
       "      <th>5</th>\n",
       "      <td>4</td>\n",
       "      <td>244</td>\n",
       "      <td>4_museum_dollfuss_dollfuß_zeitgemäß</td>\n",
       "      <td>[museum, dollfuss, dollfuß, zeitgemäß, wöginge...</td>\n",
       "      <td>[rt @dieraffa: wöginger: „wegen dem dollfuß-mu...</td>\n",
       "    </tr>\n",
       "    <tr>\n",
       "      <th>6</th>\n",
       "      <td>5</td>\n",
       "      <td>115</td>\n",
       "      <td>5_strafe_verhängt_impfstrafverfügung_rauskommen</td>\n",
       "      <td>[strafe, verhängt, impfstrafverfügung, rauskom...</td>\n",
       "      <td>[rt @peterbussjaeger: in dem punkt, dass über ...</td>\n",
       "    </tr>\n",
       "    <tr>\n",
       "      <th>7</th>\n",
       "      <td>6</td>\n",
       "      <td>104</td>\n",
       "      <td>6_fatigue_symptom_gesamtstaatliche_chronische</td>\n",
       "      <td>[fatigue, symptom, gesamtstaatliche, chronisch...</td>\n",
       "      <td>[rt @a_huss1: #imzentrum wir brauchen eine ges...</td>\n",
       "    </tr>\n",
       "    <tr>\n",
       "      <th>8</th>\n",
       "      <td>7</td>\n",
       "      <td>82</td>\n",
       "      <td>7_schulterschluss_brauche_gemeinsamen_liviaklingl</td>\n",
       "      <td>[schulterschluss, brauche, gemeinsamen, liviak...</td>\n",
       "      <td>[rt @liviaklingl: wir brauchen einen gemeinsam...</td>\n",
       "    </tr>\n",
       "    <tr>\n",
       "      <th>9</th>\n",
       "      <td>8</td>\n",
       "      <td>69</td>\n",
       "      <td>8_pip_collage_photo_editor</td>\n",
       "      <td>[pip, collage, photo, editor, camera, maker, i...</td>\n",
       "      <td>[rt @shakirk66596159: pip collage photo collag...</td>\n",
       "    </tr>\n",
       "    <tr>\n",
       "      <th>10</th>\n",
       "      <td>9</td>\n",
       "      <td>51</td>\n",
       "      <td>9_autos_verkehr_ersetzen_öffentlichen</td>\n",
       "      <td>[autos, verkehr, ersetzen, öffentlichen, straß...</td>\n",
       "      <td>[rt @ooegruene: . @stefankaineder: „wir dürfen...</td>\n",
       "    </tr>\n",
       "    <tr>\n",
       "      <th>11</th>\n",
       "      <td>10</td>\n",
       "      <td>25</td>\n",
       "      <td>10_tfona6k8bz_trending_nr_hashtag</td>\n",
       "      <td>[tfona6k8bz, trending, nr, hashtag, stunden, d...</td>\n",
       "      <td>[imzentrum ist nr.4 trending hashtag in de in ...</td>\n",
       "    </tr>\n",
       "    <tr>\n",
       "      <th>12</th>\n",
       "      <td>11</td>\n",
       "      <td>21</td>\n",
       "      <td>11_deleted_this_messages_to</td>\n",
       "      <td>[deleted, this, messages, to, message, the, ap...</td>\n",
       "      <td>[this is really confusing stage to see \"this m...</td>\n",
       "    </tr>\n",
       "    <tr>\n",
       "      <th>13</th>\n",
       "      <td>12</td>\n",
       "      <td>18</td>\n",
       "      <td>12_stromnetz_energiekonzerne_shareholder_fließt</td>\n",
       "      <td>[stromnetz, energiekonzerne, shareholder, flie...</td>\n",
       "      <td>[rt @rudifussi: unser stromnetz ist nicht für ...</td>\n",
       "    </tr>\n",
       "    <tr>\n",
       "      <th>14</th>\n",
       "      <td>13</td>\n",
       "      <td>18</td>\n",
       "      <td>13_funfact_harvard_arminfidler_epidemiologen</td>\n",
       "      <td>[funfact, harvard, arminfidler, epidemiologen,...</td>\n",
       "      <td>[rt @gerold_rie: funfact: @karl_lauterbach hat...</td>\n",
       "    </tr>\n",
       "  </tbody>\n",
       "</table>\n",
       "</div>"
      ],
      "text/plain": [
       "    Topic  Count                                               Name  \\\n",
       "0      -1   4028                               -1_rt_schon_orf_mehr   \n",
       "1       0   9427                     0_rt_orfimzentrum_övp_petrovic   \n",
       "2       1   1336                     1_impfpflicht_impfung_rt_virus   \n",
       "3       2    450                   2_3000_kind_hungrig_verständigen   \n",
       "4       3    424    3_österreich_lafilledevienne_inflation_menschen   \n",
       "5       4    244                4_museum_dollfuss_dollfuß_zeitgemäß   \n",
       "6       5    115    5_strafe_verhängt_impfstrafverfügung_rauskommen   \n",
       "7       6    104      6_fatigue_symptom_gesamtstaatliche_chronische   \n",
       "8       7     82  7_schulterschluss_brauche_gemeinsamen_liviaklingl   \n",
       "9       8     69                         8_pip_collage_photo_editor   \n",
       "10      9     51              9_autos_verkehr_ersetzen_öffentlichen   \n",
       "11     10     25                  10_tfona6k8bz_trending_nr_hashtag   \n",
       "12     11     21                        11_deleted_this_messages_to   \n",
       "13     12     18    12_stromnetz_energiekonzerne_shareholder_fließt   \n",
       "14     13     18       13_funfact_harvard_arminfidler_epidemiologen   \n",
       "\n",
       "                                       Representation  \\\n",
       "0   [rt, schon, orf, mehr, ja, impfpflicht, reiter...   \n",
       "1   [rt, orfimzentrum, övp, petrovic, covid, long,...   \n",
       "2   [impfpflicht, impfung, rt, virus, verschiedene...   \n",
       "3   [3000, kind, hungrig, verständigen, wichtigste...   \n",
       "4   [österreich, lafilledevienne, inflation, mensc...   \n",
       "5   [museum, dollfuss, dollfuß, zeitgemäß, wöginge...   \n",
       "6   [strafe, verhängt, impfstrafverfügung, rauskom...   \n",
       "7   [fatigue, symptom, gesamtstaatliche, chronisch...   \n",
       "8   [schulterschluss, brauche, gemeinsamen, liviak...   \n",
       "9   [pip, collage, photo, editor, camera, maker, i...   \n",
       "10  [autos, verkehr, ersetzen, öffentlichen, straß...   \n",
       "11  [tfona6k8bz, trending, nr, hashtag, stunden, d...   \n",
       "12  [deleted, this, messages, to, message, the, ap...   \n",
       "13  [stromnetz, energiekonzerne, shareholder, flie...   \n",
       "14  [funfact, harvard, arminfidler, epidemiologen,...   \n",
       "\n",
       "                                  Representative_Docs  \n",
       "0   [rt @bertieroberts54: also eine frage beschäft...  \n",
       "1   [rt @orfimzentrum: 💬„milde verläufe nutzen nic...  \n",
       "2   [rt @shourahashemi: nein lieber gust, „das vir...  \n",
       "3   [rt @mom_inst: \"wir sollten uns darauf verstän...  \n",
       "4   [rt @lafilledevienne: 289.000 menschen sind in...  \n",
       "5   [rt @dieraffa: wöginger: „wegen dem dollfuß-mu...  \n",
       "6   [rt @peterbussjaeger: in dem punkt, dass über ...  \n",
       "7   [rt @a_huss1: #imzentrum wir brauchen eine ges...  \n",
       "8   [rt @liviaklingl: wir brauchen einen gemeinsam...  \n",
       "9   [rt @shakirk66596159: pip collage photo collag...  \n",
       "10  [rt @ooegruene: . @stefankaineder: „wir dürfen...  \n",
       "11  [imzentrum ist nr.4 trending hashtag in de in ...  \n",
       "12  [this is really confusing stage to see \"this m...  \n",
       "13  [rt @rudifussi: unser stromnetz ist nicht für ...  \n",
       "14  [rt @gerold_rie: funfact: @karl_lauterbach hat...  "
      ]
     },
     "execution_count": 26,
     "metadata": {},
     "output_type": "execute_result"
    }
   ],
   "source": [
    "topic_model.get_topic_info()"
   ]
  },
  {
   "cell_type": "code",
   "execution_count": 27,
   "metadata": {},
   "outputs": [
    {
     "data": {
      "application/vnd.plotly.v1+json": {
       "config": {
        "plotlyServerURL": "https://plot.ly"
       },
       "data": [
        {
         "customdata": [
          [
           0,
           "rt | orfimzentrum | övp | petrovic | covid",
           9427
          ],
          [
           1,
           "impfpflicht | impfung | rt | virus | verschiedene",
           1336
          ],
          [
           2,
           "3000 | kind | hungrig | verständigen | wichtigste",
           450
          ],
          [
           3,
           "österreich | lafilledevienne | inflation | menschen | 000",
           424
          ],
          [
           4,
           "museum | dollfuss | dollfuß | zeitgemäß | wöginger",
           244
          ],
          [
           5,
           "strafe | verhängt | impfstrafverfügung | rauskommen | höhere",
           115
          ],
          [
           6,
           "fatigue | symptom | gesamtstaatliche | chronische | cfs",
           104
          ],
          [
           7,
           "schulterschluss | brauche | gemeinsamen | liviaklingl | sigi_maurer",
           82
          ],
          [
           8,
           "pip | collage | photo | editor | camera",
           69
          ],
          [
           9,
           "autos | verkehr | ersetzen | öffentlichen | straßen",
           51
          ],
          [
           10,
           "tfona6k8bz | trending | nr | hashtag | stunden",
           25
          ],
          [
           11,
           "deleted | this | messages | to | message",
           21
          ],
          [
           12,
           "stromnetz | energiekonzerne | shareholder | fließt | geeignet",
           18
          ],
          [
           13,
           "funfact | harvard | arminfidler | epidemiologen | karl_lauterbach",
           18
          ]
         ],
         "hovertemplate": "<b>Topic %{customdata[0]}</b><br>%{customdata[1]}<br>Size: %{customdata[2]}",
         "legendgroup": "",
         "marker": {
          "color": "#B0BEC5",
          "line": {
           "color": "DarkSlateGrey",
           "width": 2
          },
          "size": [
           9427,
           1336,
           450,
           424,
           244,
           115,
           104,
           82,
           69,
           51,
           25,
           21,
           18,
           18
          ],
          "sizemode": "area",
          "sizeref": 5.891875,
          "symbol": "circle"
         },
         "mode": "markers",
         "name": "",
         "orientation": "v",
         "showlegend": false,
         "type": "scatter",
         "x": [
          4.362806797027588,
          5.523377418518066,
          4.328980445861816,
          2.879566192626953,
          6.690189361572266,
          5.889852046966553,
          6.712080955505371,
          6.435247898101807,
          5.309119701385498,
          2.242830753326416,
          4.614914417266846,
          3.79264235496521,
          2.6876718997955322,
          4.562161445617676
         ],
         "xaxis": "x",
         "y": [
          3.472503185272217,
          2.4563066959381104,
          2.9584741592407227,
          -0.3159468173980713,
          0.45843344926834106,
          2.1592938899993896,
          -1.2042733430862427,
          -0.9311153888702393,
          0.7023335099220276,
          -1.2558300495147705,
          0.24520152807235718,
          2.5779833793640137,
          -0.6621013879776001,
          1.9761838912963867
         ],
         "yaxis": "y"
        }
       ],
       "layout": {
        "annotations": [
         {
          "showarrow": false,
          "text": "D1",
          "x": 1.9064061403274537,
          "y": 1.2745870530605314,
          "yshift": 10
         },
         {
          "showarrow": false,
          "text": "D2",
          "x": 4.812649619579315,
          "xshift": 10,
          "y": 3.9933786630630492
         }
        ],
        "height": 650,
        "hoverlabel": {
         "bgcolor": "white",
         "font": {
          "family": "Rockwell",
          "size": 16
         }
        },
        "legend": {
         "itemsizing": "constant",
         "tracegroupgap": 0
        },
        "margin": {
         "t": 60
        },
        "shapes": [
         {
          "line": {
           "color": "#CFD8DC",
           "width": 2
          },
          "type": "line",
          "x0": 4.812649619579315,
          "x1": 4.812649619579315,
          "y0": -1.4442045569419861,
          "y1": 3.9933786630630492
         },
         {
          "line": {
           "color": "#9E9E9E",
           "width": 2
          },
          "type": "line",
          "x0": 1.9064061403274537,
          "x1": 7.718893098831177,
          "y0": 1.2745870530605314,
          "y1": 1.2745870530605314
         }
        ],
        "sliders": [
         {
          "active": 0,
          "pad": {
           "t": 50
          },
          "steps": [
           {
            "args": [
             {
              "marker.color": [
               [
                "red",
                "#B0BEC5",
                "#B0BEC5",
                "#B0BEC5",
                "#B0BEC5",
                "#B0BEC5",
                "#B0BEC5",
                "#B0BEC5",
                "#B0BEC5",
                "#B0BEC5",
                "#B0BEC5",
                "#B0BEC5",
                "#B0BEC5",
                "#B0BEC5"
               ]
              ]
             }
            ],
            "label": "Topic 0",
            "method": "update"
           },
           {
            "args": [
             {
              "marker.color": [
               [
                "#B0BEC5",
                "red",
                "#B0BEC5",
                "#B0BEC5",
                "#B0BEC5",
                "#B0BEC5",
                "#B0BEC5",
                "#B0BEC5",
                "#B0BEC5",
                "#B0BEC5",
                "#B0BEC5",
                "#B0BEC5",
                "#B0BEC5",
                "#B0BEC5"
               ]
              ]
             }
            ],
            "label": "Topic 1",
            "method": "update"
           },
           {
            "args": [
             {
              "marker.color": [
               [
                "#B0BEC5",
                "#B0BEC5",
                "red",
                "#B0BEC5",
                "#B0BEC5",
                "#B0BEC5",
                "#B0BEC5",
                "#B0BEC5",
                "#B0BEC5",
                "#B0BEC5",
                "#B0BEC5",
                "#B0BEC5",
                "#B0BEC5",
                "#B0BEC5"
               ]
              ]
             }
            ],
            "label": "Topic 2",
            "method": "update"
           },
           {
            "args": [
             {
              "marker.color": [
               [
                "#B0BEC5",
                "#B0BEC5",
                "#B0BEC5",
                "red",
                "#B0BEC5",
                "#B0BEC5",
                "#B0BEC5",
                "#B0BEC5",
                "#B0BEC5",
                "#B0BEC5",
                "#B0BEC5",
                "#B0BEC5",
                "#B0BEC5",
                "#B0BEC5"
               ]
              ]
             }
            ],
            "label": "Topic 3",
            "method": "update"
           },
           {
            "args": [
             {
              "marker.color": [
               [
                "#B0BEC5",
                "#B0BEC5",
                "#B0BEC5",
                "#B0BEC5",
                "red",
                "#B0BEC5",
                "#B0BEC5",
                "#B0BEC5",
                "#B0BEC5",
                "#B0BEC5",
                "#B0BEC5",
                "#B0BEC5",
                "#B0BEC5",
                "#B0BEC5"
               ]
              ]
             }
            ],
            "label": "Topic 4",
            "method": "update"
           },
           {
            "args": [
             {
              "marker.color": [
               [
                "#B0BEC5",
                "#B0BEC5",
                "#B0BEC5",
                "#B0BEC5",
                "#B0BEC5",
                "red",
                "#B0BEC5",
                "#B0BEC5",
                "#B0BEC5",
                "#B0BEC5",
                "#B0BEC5",
                "#B0BEC5",
                "#B0BEC5",
                "#B0BEC5"
               ]
              ]
             }
            ],
            "label": "Topic 5",
            "method": "update"
           },
           {
            "args": [
             {
              "marker.color": [
               [
                "#B0BEC5",
                "#B0BEC5",
                "#B0BEC5",
                "#B0BEC5",
                "#B0BEC5",
                "#B0BEC5",
                "red",
                "#B0BEC5",
                "#B0BEC5",
                "#B0BEC5",
                "#B0BEC5",
                "#B0BEC5",
                "#B0BEC5",
                "#B0BEC5"
               ]
              ]
             }
            ],
            "label": "Topic 6",
            "method": "update"
           },
           {
            "args": [
             {
              "marker.color": [
               [
                "#B0BEC5",
                "#B0BEC5",
                "#B0BEC5",
                "#B0BEC5",
                "#B0BEC5",
                "#B0BEC5",
                "#B0BEC5",
                "red",
                "#B0BEC5",
                "#B0BEC5",
                "#B0BEC5",
                "#B0BEC5",
                "#B0BEC5",
                "#B0BEC5"
               ]
              ]
             }
            ],
            "label": "Topic 7",
            "method": "update"
           },
           {
            "args": [
             {
              "marker.color": [
               [
                "#B0BEC5",
                "#B0BEC5",
                "#B0BEC5",
                "#B0BEC5",
                "#B0BEC5",
                "#B0BEC5",
                "#B0BEC5",
                "#B0BEC5",
                "red",
                "#B0BEC5",
                "#B0BEC5",
                "#B0BEC5",
                "#B0BEC5",
                "#B0BEC5"
               ]
              ]
             }
            ],
            "label": "Topic 8",
            "method": "update"
           },
           {
            "args": [
             {
              "marker.color": [
               [
                "#B0BEC5",
                "#B0BEC5",
                "#B0BEC5",
                "#B0BEC5",
                "#B0BEC5",
                "#B0BEC5",
                "#B0BEC5",
                "#B0BEC5",
                "#B0BEC5",
                "red",
                "#B0BEC5",
                "#B0BEC5",
                "#B0BEC5",
                "#B0BEC5"
               ]
              ]
             }
            ],
            "label": "Topic 9",
            "method": "update"
           },
           {
            "args": [
             {
              "marker.color": [
               [
                "#B0BEC5",
                "#B0BEC5",
                "#B0BEC5",
                "#B0BEC5",
                "#B0BEC5",
                "#B0BEC5",
                "#B0BEC5",
                "#B0BEC5",
                "#B0BEC5",
                "#B0BEC5",
                "red",
                "#B0BEC5",
                "#B0BEC5",
                "#B0BEC5"
               ]
              ]
             }
            ],
            "label": "Topic 10",
            "method": "update"
           },
           {
            "args": [
             {
              "marker.color": [
               [
                "#B0BEC5",
                "#B0BEC5",
                "#B0BEC5",
                "#B0BEC5",
                "#B0BEC5",
                "#B0BEC5",
                "#B0BEC5",
                "#B0BEC5",
                "#B0BEC5",
                "#B0BEC5",
                "#B0BEC5",
                "red",
                "#B0BEC5",
                "#B0BEC5"
               ]
              ]
             }
            ],
            "label": "Topic 11",
            "method": "update"
           },
           {
            "args": [
             {
              "marker.color": [
               [
                "#B0BEC5",
                "#B0BEC5",
                "#B0BEC5",
                "#B0BEC5",
                "#B0BEC5",
                "#B0BEC5",
                "#B0BEC5",
                "#B0BEC5",
                "#B0BEC5",
                "#B0BEC5",
                "#B0BEC5",
                "#B0BEC5",
                "red",
                "#B0BEC5"
               ]
              ]
             }
            ],
            "label": "Topic 12",
            "method": "update"
           },
           {
            "args": [
             {
              "marker.color": [
               [
                "#B0BEC5",
                "#B0BEC5",
                "#B0BEC5",
                "#B0BEC5",
                "#B0BEC5",
                "#B0BEC5",
                "#B0BEC5",
                "#B0BEC5",
                "#B0BEC5",
                "#B0BEC5",
                "#B0BEC5",
                "#B0BEC5",
                "#B0BEC5",
                "red"
               ]
              ]
             }
            ],
            "label": "Topic 13",
            "method": "update"
           }
          ]
         }
        ],
        "template": {
         "data": {
          "bar": [
           {
            "error_x": {
             "color": "rgb(36,36,36)"
            },
            "error_y": {
             "color": "rgb(36,36,36)"
            },
            "marker": {
             "line": {
              "color": "white",
              "width": 0.5
             },
             "pattern": {
              "fillmode": "overlay",
              "size": 10,
              "solidity": 0.2
             }
            },
            "type": "bar"
           }
          ],
          "barpolar": [
           {
            "marker": {
             "line": {
              "color": "white",
              "width": 0.5
             },
             "pattern": {
              "fillmode": "overlay",
              "size": 10,
              "solidity": 0.2
             }
            },
            "type": "barpolar"
           }
          ],
          "carpet": [
           {
            "aaxis": {
             "endlinecolor": "rgb(36,36,36)",
             "gridcolor": "white",
             "linecolor": "white",
             "minorgridcolor": "white",
             "startlinecolor": "rgb(36,36,36)"
            },
            "baxis": {
             "endlinecolor": "rgb(36,36,36)",
             "gridcolor": "white",
             "linecolor": "white",
             "minorgridcolor": "white",
             "startlinecolor": "rgb(36,36,36)"
            },
            "type": "carpet"
           }
          ],
          "choropleth": [
           {
            "colorbar": {
             "outlinewidth": 1,
             "tickcolor": "rgb(36,36,36)",
             "ticks": "outside"
            },
            "type": "choropleth"
           }
          ],
          "contour": [
           {
            "colorbar": {
             "outlinewidth": 1,
             "tickcolor": "rgb(36,36,36)",
             "ticks": "outside"
            },
            "colorscale": [
             [
              0,
              "#440154"
             ],
             [
              0.1111111111111111,
              "#482878"
             ],
             [
              0.2222222222222222,
              "#3e4989"
             ],
             [
              0.3333333333333333,
              "#31688e"
             ],
             [
              0.4444444444444444,
              "#26828e"
             ],
             [
              0.5555555555555556,
              "#1f9e89"
             ],
             [
              0.6666666666666666,
              "#35b779"
             ],
             [
              0.7777777777777778,
              "#6ece58"
             ],
             [
              0.8888888888888888,
              "#b5de2b"
             ],
             [
              1,
              "#fde725"
             ]
            ],
            "type": "contour"
           }
          ],
          "contourcarpet": [
           {
            "colorbar": {
             "outlinewidth": 1,
             "tickcolor": "rgb(36,36,36)",
             "ticks": "outside"
            },
            "type": "contourcarpet"
           }
          ],
          "heatmap": [
           {
            "colorbar": {
             "outlinewidth": 1,
             "tickcolor": "rgb(36,36,36)",
             "ticks": "outside"
            },
            "colorscale": [
             [
              0,
              "#440154"
             ],
             [
              0.1111111111111111,
              "#482878"
             ],
             [
              0.2222222222222222,
              "#3e4989"
             ],
             [
              0.3333333333333333,
              "#31688e"
             ],
             [
              0.4444444444444444,
              "#26828e"
             ],
             [
              0.5555555555555556,
              "#1f9e89"
             ],
             [
              0.6666666666666666,
              "#35b779"
             ],
             [
              0.7777777777777778,
              "#6ece58"
             ],
             [
              0.8888888888888888,
              "#b5de2b"
             ],
             [
              1,
              "#fde725"
             ]
            ],
            "type": "heatmap"
           }
          ],
          "heatmapgl": [
           {
            "colorbar": {
             "outlinewidth": 1,
             "tickcolor": "rgb(36,36,36)",
             "ticks": "outside"
            },
            "colorscale": [
             [
              0,
              "#440154"
             ],
             [
              0.1111111111111111,
              "#482878"
             ],
             [
              0.2222222222222222,
              "#3e4989"
             ],
             [
              0.3333333333333333,
              "#31688e"
             ],
             [
              0.4444444444444444,
              "#26828e"
             ],
             [
              0.5555555555555556,
              "#1f9e89"
             ],
             [
              0.6666666666666666,
              "#35b779"
             ],
             [
              0.7777777777777778,
              "#6ece58"
             ],
             [
              0.8888888888888888,
              "#b5de2b"
             ],
             [
              1,
              "#fde725"
             ]
            ],
            "type": "heatmapgl"
           }
          ],
          "histogram": [
           {
            "marker": {
             "line": {
              "color": "white",
              "width": 0.6
             }
            },
            "type": "histogram"
           }
          ],
          "histogram2d": [
           {
            "colorbar": {
             "outlinewidth": 1,
             "tickcolor": "rgb(36,36,36)",
             "ticks": "outside"
            },
            "colorscale": [
             [
              0,
              "#440154"
             ],
             [
              0.1111111111111111,
              "#482878"
             ],
             [
              0.2222222222222222,
              "#3e4989"
             ],
             [
              0.3333333333333333,
              "#31688e"
             ],
             [
              0.4444444444444444,
              "#26828e"
             ],
             [
              0.5555555555555556,
              "#1f9e89"
             ],
             [
              0.6666666666666666,
              "#35b779"
             ],
             [
              0.7777777777777778,
              "#6ece58"
             ],
             [
              0.8888888888888888,
              "#b5de2b"
             ],
             [
              1,
              "#fde725"
             ]
            ],
            "type": "histogram2d"
           }
          ],
          "histogram2dcontour": [
           {
            "colorbar": {
             "outlinewidth": 1,
             "tickcolor": "rgb(36,36,36)",
             "ticks": "outside"
            },
            "colorscale": [
             [
              0,
              "#440154"
             ],
             [
              0.1111111111111111,
              "#482878"
             ],
             [
              0.2222222222222222,
              "#3e4989"
             ],
             [
              0.3333333333333333,
              "#31688e"
             ],
             [
              0.4444444444444444,
              "#26828e"
             ],
             [
              0.5555555555555556,
              "#1f9e89"
             ],
             [
              0.6666666666666666,
              "#35b779"
             ],
             [
              0.7777777777777778,
              "#6ece58"
             ],
             [
              0.8888888888888888,
              "#b5de2b"
             ],
             [
              1,
              "#fde725"
             ]
            ],
            "type": "histogram2dcontour"
           }
          ],
          "mesh3d": [
           {
            "colorbar": {
             "outlinewidth": 1,
             "tickcolor": "rgb(36,36,36)",
             "ticks": "outside"
            },
            "type": "mesh3d"
           }
          ],
          "parcoords": [
           {
            "line": {
             "colorbar": {
              "outlinewidth": 1,
              "tickcolor": "rgb(36,36,36)",
              "ticks": "outside"
             }
            },
            "type": "parcoords"
           }
          ],
          "pie": [
           {
            "automargin": true,
            "type": "pie"
           }
          ],
          "scatter": [
           {
            "fillpattern": {
             "fillmode": "overlay",
             "size": 10,
             "solidity": 0.2
            },
            "type": "scatter"
           }
          ],
          "scatter3d": [
           {
            "line": {
             "colorbar": {
              "outlinewidth": 1,
              "tickcolor": "rgb(36,36,36)",
              "ticks": "outside"
             }
            },
            "marker": {
             "colorbar": {
              "outlinewidth": 1,
              "tickcolor": "rgb(36,36,36)",
              "ticks": "outside"
             }
            },
            "type": "scatter3d"
           }
          ],
          "scattercarpet": [
           {
            "marker": {
             "colorbar": {
              "outlinewidth": 1,
              "tickcolor": "rgb(36,36,36)",
              "ticks": "outside"
             }
            },
            "type": "scattercarpet"
           }
          ],
          "scattergeo": [
           {
            "marker": {
             "colorbar": {
              "outlinewidth": 1,
              "tickcolor": "rgb(36,36,36)",
              "ticks": "outside"
             }
            },
            "type": "scattergeo"
           }
          ],
          "scattergl": [
           {
            "marker": {
             "colorbar": {
              "outlinewidth": 1,
              "tickcolor": "rgb(36,36,36)",
              "ticks": "outside"
             }
            },
            "type": "scattergl"
           }
          ],
          "scattermapbox": [
           {
            "marker": {
             "colorbar": {
              "outlinewidth": 1,
              "tickcolor": "rgb(36,36,36)",
              "ticks": "outside"
             }
            },
            "type": "scattermapbox"
           }
          ],
          "scatterpolar": [
           {
            "marker": {
             "colorbar": {
              "outlinewidth": 1,
              "tickcolor": "rgb(36,36,36)",
              "ticks": "outside"
             }
            },
            "type": "scatterpolar"
           }
          ],
          "scatterpolargl": [
           {
            "marker": {
             "colorbar": {
              "outlinewidth": 1,
              "tickcolor": "rgb(36,36,36)",
              "ticks": "outside"
             }
            },
            "type": "scatterpolargl"
           }
          ],
          "scatterternary": [
           {
            "marker": {
             "colorbar": {
              "outlinewidth": 1,
              "tickcolor": "rgb(36,36,36)",
              "ticks": "outside"
             }
            },
            "type": "scatterternary"
           }
          ],
          "surface": [
           {
            "colorbar": {
             "outlinewidth": 1,
             "tickcolor": "rgb(36,36,36)",
             "ticks": "outside"
            },
            "colorscale": [
             [
              0,
              "#440154"
             ],
             [
              0.1111111111111111,
              "#482878"
             ],
             [
              0.2222222222222222,
              "#3e4989"
             ],
             [
              0.3333333333333333,
              "#31688e"
             ],
             [
              0.4444444444444444,
              "#26828e"
             ],
             [
              0.5555555555555556,
              "#1f9e89"
             ],
             [
              0.6666666666666666,
              "#35b779"
             ],
             [
              0.7777777777777778,
              "#6ece58"
             ],
             [
              0.8888888888888888,
              "#b5de2b"
             ],
             [
              1,
              "#fde725"
             ]
            ],
            "type": "surface"
           }
          ],
          "table": [
           {
            "cells": {
             "fill": {
              "color": "rgb(237,237,237)"
             },
             "line": {
              "color": "white"
             }
            },
            "header": {
             "fill": {
              "color": "rgb(217,217,217)"
             },
             "line": {
              "color": "white"
             }
            },
            "type": "table"
           }
          ]
         },
         "layout": {
          "annotationdefaults": {
           "arrowhead": 0,
           "arrowwidth": 1
          },
          "autotypenumbers": "strict",
          "coloraxis": {
           "colorbar": {
            "outlinewidth": 1,
            "tickcolor": "rgb(36,36,36)",
            "ticks": "outside"
           }
          },
          "colorscale": {
           "diverging": [
            [
             0,
             "rgb(103,0,31)"
            ],
            [
             0.1,
             "rgb(178,24,43)"
            ],
            [
             0.2,
             "rgb(214,96,77)"
            ],
            [
             0.3,
             "rgb(244,165,130)"
            ],
            [
             0.4,
             "rgb(253,219,199)"
            ],
            [
             0.5,
             "rgb(247,247,247)"
            ],
            [
             0.6,
             "rgb(209,229,240)"
            ],
            [
             0.7,
             "rgb(146,197,222)"
            ],
            [
             0.8,
             "rgb(67,147,195)"
            ],
            [
             0.9,
             "rgb(33,102,172)"
            ],
            [
             1,
             "rgb(5,48,97)"
            ]
           ],
           "sequential": [
            [
             0,
             "#440154"
            ],
            [
             0.1111111111111111,
             "#482878"
            ],
            [
             0.2222222222222222,
             "#3e4989"
            ],
            [
             0.3333333333333333,
             "#31688e"
            ],
            [
             0.4444444444444444,
             "#26828e"
            ],
            [
             0.5555555555555556,
             "#1f9e89"
            ],
            [
             0.6666666666666666,
             "#35b779"
            ],
            [
             0.7777777777777778,
             "#6ece58"
            ],
            [
             0.8888888888888888,
             "#b5de2b"
            ],
            [
             1,
             "#fde725"
            ]
           ],
           "sequentialminus": [
            [
             0,
             "#440154"
            ],
            [
             0.1111111111111111,
             "#482878"
            ],
            [
             0.2222222222222222,
             "#3e4989"
            ],
            [
             0.3333333333333333,
             "#31688e"
            ],
            [
             0.4444444444444444,
             "#26828e"
            ],
            [
             0.5555555555555556,
             "#1f9e89"
            ],
            [
             0.6666666666666666,
             "#35b779"
            ],
            [
             0.7777777777777778,
             "#6ece58"
            ],
            [
             0.8888888888888888,
             "#b5de2b"
            ],
            [
             1,
             "#fde725"
            ]
           ]
          },
          "colorway": [
           "#1F77B4",
           "#FF7F0E",
           "#2CA02C",
           "#D62728",
           "#9467BD",
           "#8C564B",
           "#E377C2",
           "#7F7F7F",
           "#BCBD22",
           "#17BECF"
          ],
          "font": {
           "color": "rgb(36,36,36)"
          },
          "geo": {
           "bgcolor": "white",
           "lakecolor": "white",
           "landcolor": "white",
           "showlakes": true,
           "showland": true,
           "subunitcolor": "white"
          },
          "hoverlabel": {
           "align": "left"
          },
          "hovermode": "closest",
          "mapbox": {
           "style": "light"
          },
          "paper_bgcolor": "white",
          "plot_bgcolor": "white",
          "polar": {
           "angularaxis": {
            "gridcolor": "rgb(232,232,232)",
            "linecolor": "rgb(36,36,36)",
            "showgrid": false,
            "showline": true,
            "ticks": "outside"
           },
           "bgcolor": "white",
           "radialaxis": {
            "gridcolor": "rgb(232,232,232)",
            "linecolor": "rgb(36,36,36)",
            "showgrid": false,
            "showline": true,
            "ticks": "outside"
           }
          },
          "scene": {
           "xaxis": {
            "backgroundcolor": "white",
            "gridcolor": "rgb(232,232,232)",
            "gridwidth": 2,
            "linecolor": "rgb(36,36,36)",
            "showbackground": true,
            "showgrid": false,
            "showline": true,
            "ticks": "outside",
            "zeroline": false,
            "zerolinecolor": "rgb(36,36,36)"
           },
           "yaxis": {
            "backgroundcolor": "white",
            "gridcolor": "rgb(232,232,232)",
            "gridwidth": 2,
            "linecolor": "rgb(36,36,36)",
            "showbackground": true,
            "showgrid": false,
            "showline": true,
            "ticks": "outside",
            "zeroline": false,
            "zerolinecolor": "rgb(36,36,36)"
           },
           "zaxis": {
            "backgroundcolor": "white",
            "gridcolor": "rgb(232,232,232)",
            "gridwidth": 2,
            "linecolor": "rgb(36,36,36)",
            "showbackground": true,
            "showgrid": false,
            "showline": true,
            "ticks": "outside",
            "zeroline": false,
            "zerolinecolor": "rgb(36,36,36)"
           }
          },
          "shapedefaults": {
           "fillcolor": "black",
           "line": {
            "width": 0
           },
           "opacity": 0.3
          },
          "ternary": {
           "aaxis": {
            "gridcolor": "rgb(232,232,232)",
            "linecolor": "rgb(36,36,36)",
            "showgrid": false,
            "showline": true,
            "ticks": "outside"
           },
           "baxis": {
            "gridcolor": "rgb(232,232,232)",
            "linecolor": "rgb(36,36,36)",
            "showgrid": false,
            "showline": true,
            "ticks": "outside"
           },
           "bgcolor": "white",
           "caxis": {
            "gridcolor": "rgb(232,232,232)",
            "linecolor": "rgb(36,36,36)",
            "showgrid": false,
            "showline": true,
            "ticks": "outside"
           }
          },
          "title": {
           "x": 0.05
          },
          "xaxis": {
           "automargin": true,
           "gridcolor": "rgb(232,232,232)",
           "linecolor": "rgb(36,36,36)",
           "showgrid": false,
           "showline": true,
           "ticks": "outside",
           "title": {
            "standoff": 15
           },
           "zeroline": false,
           "zerolinecolor": "rgb(36,36,36)"
          },
          "yaxis": {
           "automargin": true,
           "gridcolor": "rgb(232,232,232)",
           "linecolor": "rgb(36,36,36)",
           "showgrid": false,
           "showline": true,
           "ticks": "outside",
           "title": {
            "standoff": 15
           },
           "zeroline": false,
           "zerolinecolor": "rgb(36,36,36)"
          }
         }
        },
        "title": {
         "font": {
          "color": "Black",
          "size": 22
         },
         "text": "<b>Intertopic Distance Map</b>",
         "x": 0.5,
         "xanchor": "center",
         "y": 0.95,
         "yanchor": "top"
        },
        "width": 650,
        "xaxis": {
         "anchor": "y",
         "domain": [
          0,
          1
         ],
         "range": [
          1.9064061403274537,
          7.718893098831177
         ],
         "title": {
          "text": ""
         },
         "visible": false
        },
        "yaxis": {
         "anchor": "x",
         "domain": [
          0,
          1
         ],
         "range": [
          -1.4442045569419861,
          3.9933786630630492
         ],
         "title": {
          "text": ""
         },
         "visible": false
        }
       }
      }
     },
     "metadata": {},
     "output_type": "display_data"
    }
   ],
   "source": [
    "# Visualize topics\n",
    "topic_model.visualize_topics()"
   ]
  },
  {
   "cell_type": "code",
   "execution_count": 29,
   "metadata": {},
   "outputs": [
    {
     "data": {
      "application/vnd.plotly.v1+json": {
       "config": {
        "plotlyServerURL": "https://plot.ly"
       },
       "data": [
        {
         "marker": {
          "color": "#D55E00"
         },
         "orientation": "h",
         "type": "bar",
         "x": [
          0.014442249407366561,
          0.014703413014395534,
          0.015732502478968735,
          0.02044505015096121,
          0.046294379057884145
         ],
         "xaxis": "x",
         "y": [
          "covid  ",
          "petrovic  ",
          "övp  ",
          "orfimzentrum  ",
          "rt  "
         ],
         "yaxis": "y"
        },
        {
         "marker": {
          "color": "#0072B2"
         },
         "orientation": "h",
         "type": "bar",
         "x": [
          0.02773658024930445,
          0.03516570920056677,
          0.04109100482513211,
          0.04370846141690856,
          0.06540103107538237
         ],
         "xaxis": "x2",
         "y": [
          "verschiedene  ",
          "virus  ",
          "rt  ",
          "impfung  ",
          "impfpflicht  "
         ],
         "yaxis": "y2"
        },
        {
         "marker": {
          "color": "#CC79A7"
         },
         "orientation": "h",
         "type": "bar",
         "x": [
          0.09521498864078769,
          0.09573814958903801,
          0.09834944513338557,
          0.09875647560685824,
          0.11487359199966639
         ],
         "xaxis": "x3",
         "y": [
          "wichtigste  ",
          "verständigen  ",
          "hungrig  ",
          "kind  ",
          "3000  "
         ],
         "yaxis": "y3"
        },
        {
         "marker": {
          "color": "#E69F00"
         },
         "orientation": "h",
         "type": "bar",
         "x": [
          0.05998713324285049,
          0.061766684742125384,
          0.0624001281620765,
          0.06517611003337058,
          0.07340251293450567
         ],
         "xaxis": "x4",
         "y": [
          "000  ",
          "menschen  ",
          "inflation  ",
          "lafilledevienne  ",
          "österreich  "
         ],
         "yaxis": "y4"
        },
        {
         "marker": {
          "color": "#56B4E9"
         },
         "orientation": "h",
         "type": "bar",
         "x": [
          0.12418575121314945,
          0.16291107512647213,
          0.17970082995792627,
          0.19376469323357726,
          0.29316254968359234
         ],
         "xaxis": "x5",
         "y": [
          "wöginger  ",
          "zeitgemäß  ",
          "dollfuß  ",
          "dollfuss  ",
          "museum  "
         ],
         "yaxis": "y5"
        },
        {
         "marker": {
          "color": "#009E73"
         },
         "orientation": "h",
         "type": "bar",
         "x": [
          0.17166212667952122,
          0.1723893147396598,
          0.1731345210968316,
          0.17314037896285353,
          0.18682030363118765
         ],
         "xaxis": "x6",
         "y": [
          "höhere  ",
          "rauskommen  ",
          "impfstrafverfügung  ",
          "verhängt  ",
          "strafe  "
         ],
         "yaxis": "y6"
        },
        {
         "marker": {
          "color": "#F0E442"
         },
         "orientation": "h",
         "type": "bar",
         "x": [
          0.3559723176901276,
          0.36020455433094,
          0.36020455433094,
          0.36020455433094,
          0.3629723032080356
         ],
         "xaxis": "x7",
         "y": [
          "cfs  ",
          "chronische  ",
          "gesamtstaatliche  ",
          "symptom  ",
          "fatigue  "
         ],
         "yaxis": "y7"
        },
        {
         "marker": {
          "color": "#D55E00"
         },
         "orientation": "h",
         "type": "bar",
         "x": [
          0.24975695504466278,
          0.3073378115661257,
          0.3116742250535263,
          0.3173365409705271,
          0.55750761008385
         ],
         "xaxis": "x8",
         "y": [
          "sigi_maurer  ",
          "liviaklingl  ",
          "gemeinsamen  ",
          "brauche  ",
          "schulterschluss  "
         ],
         "yaxis": "y8"
        },
        {
         "marker": {
          "color": "#0072B2"
         },
         "orientation": "h",
         "type": "bar",
         "x": [
          0.15607133015092228,
          0.1590843885190758,
          0.20574557591687875,
          0.23215505795619398,
          0.24166896075280694
         ],
         "xaxis": "x9",
         "y": [
          "camera  ",
          "editor  ",
          "photo  ",
          "collage  ",
          "pip  "
         ],
         "yaxis": "y9"
        },
        {
         "marker": {
          "color": "#CC79A7"
         },
         "orientation": "h",
         "type": "bar",
         "x": [
          0.13726436922322816,
          0.148642224257094,
          0.15499812229266255,
          0.16356692701438094,
          0.2930041941036607
         ],
         "xaxis": "x10",
         "y": [
          "straßen  ",
          "öffentlichen  ",
          "ersetzen  ",
          "verkehr  ",
          "autos  "
         ],
         "yaxis": "y10"
        },
        {
         "marker": {
          "color": "#E69F00"
         },
         "orientation": "h",
         "type": "bar",
         "x": [
          0.7863782946873745,
          0.8351979134946413,
          0.8482840839538369,
          0.8627068045995157,
          0.8787695721345313
         ],
         "xaxis": "x11",
         "y": [
          "stunden  ",
          "hashtag  ",
          "nr  ",
          "trending  ",
          "tfona6k8bz  "
         ],
         "yaxis": "y11"
        },
        {
         "marker": {
          "color": "#56B4E9"
         },
         "orientation": "h",
         "type": "bar",
         "x": [
          0.14701835585382791,
          0.16392394061040136,
          0.18031123566823426,
          0.19653447197747745,
          0.2252475585699
         ],
         "xaxis": "x12",
         "y": [
          "message  ",
          "to  ",
          "messages  ",
          "this  ",
          "deleted  "
         ],
         "yaxis": "y12"
        },
        {
         "marker": {
          "color": "#009E73"
         },
         "orientation": "h",
         "type": "bar",
         "x": [
          0.49066943141766073,
          0.49066943141766073,
          0.4947695503901853,
          0.4947695503901853,
          0.4947695503901853
         ],
         "xaxis": "x13",
         "y": [
          "geeignet  ",
          "fließt  ",
          "shareholder  ",
          "energiekonzerne  ",
          "stromnetz  "
         ],
         "yaxis": "y13"
        },
        {
         "marker": {
          "color": "#F0E442"
         },
         "orientation": "h",
         "type": "bar",
         "x": [
          0.6136534979330507,
          0.6136534979330507,
          0.6237254438429464,
          0.6237254438429464,
          0.6237254438429464
         ],
         "xaxis": "x14",
         "y": [
          "karl_lauterbach  ",
          "epidemiologen  ",
          "arminfidler  ",
          "harvard  ",
          "funfact  "
         ],
         "yaxis": "y14"
        }
       ],
       "layout": {
        "annotations": [
         {
          "font": {
           "size": 16
          },
          "showarrow": false,
          "text": "Topic 0",
          "x": 0.0875,
          "xanchor": "center",
          "xref": "paper",
          "y": 1,
          "yanchor": "bottom",
          "yref": "paper"
         },
         {
          "font": {
           "size": 16
          },
          "showarrow": false,
          "text": "Topic 1",
          "x": 0.36250000000000004,
          "xanchor": "center",
          "xref": "paper",
          "y": 1,
          "yanchor": "bottom",
          "yref": "paper"
         },
         {
          "font": {
           "size": 16
          },
          "showarrow": false,
          "text": "Topic 2",
          "x": 0.6375000000000001,
          "xanchor": "center",
          "xref": "paper",
          "y": 1,
          "yanchor": "bottom",
          "yref": "paper"
         },
         {
          "font": {
           "size": 16
          },
          "showarrow": false,
          "text": "Topic 3",
          "x": 0.9125,
          "xanchor": "center",
          "xref": "paper",
          "y": 1,
          "yanchor": "bottom",
          "yref": "paper"
         },
         {
          "font": {
           "size": 16
          },
          "showarrow": false,
          "text": "Topic 4",
          "x": 0.0875,
          "xanchor": "center",
          "xref": "paper",
          "y": 0.7250000000000001,
          "yanchor": "bottom",
          "yref": "paper"
         },
         {
          "font": {
           "size": 16
          },
          "showarrow": false,
          "text": "Topic 5",
          "x": 0.36250000000000004,
          "xanchor": "center",
          "xref": "paper",
          "y": 0.7250000000000001,
          "yanchor": "bottom",
          "yref": "paper"
         },
         {
          "font": {
           "size": 16
          },
          "showarrow": false,
          "text": "Topic 6",
          "x": 0.6375000000000001,
          "xanchor": "center",
          "xref": "paper",
          "y": 0.7250000000000001,
          "yanchor": "bottom",
          "yref": "paper"
         },
         {
          "font": {
           "size": 16
          },
          "showarrow": false,
          "text": "Topic 7",
          "x": 0.9125,
          "xanchor": "center",
          "xref": "paper",
          "y": 0.7250000000000001,
          "yanchor": "bottom",
          "yref": "paper"
         },
         {
          "font": {
           "size": 16
          },
          "showarrow": false,
          "text": "Topic 8",
          "x": 0.0875,
          "xanchor": "center",
          "xref": "paper",
          "y": 0.45,
          "yanchor": "bottom",
          "yref": "paper"
         },
         {
          "font": {
           "size": 16
          },
          "showarrow": false,
          "text": "Topic 9",
          "x": 0.36250000000000004,
          "xanchor": "center",
          "xref": "paper",
          "y": 0.45,
          "yanchor": "bottom",
          "yref": "paper"
         },
         {
          "font": {
           "size": 16
          },
          "showarrow": false,
          "text": "Topic 10",
          "x": 0.6375000000000001,
          "xanchor": "center",
          "xref": "paper",
          "y": 0.45,
          "yanchor": "bottom",
          "yref": "paper"
         },
         {
          "font": {
           "size": 16
          },
          "showarrow": false,
          "text": "Topic 11",
          "x": 0.9125,
          "xanchor": "center",
          "xref": "paper",
          "y": 0.45,
          "yanchor": "bottom",
          "yref": "paper"
         },
         {
          "font": {
           "size": 16
          },
          "showarrow": false,
          "text": "Topic 12",
          "x": 0.0875,
          "xanchor": "center",
          "xref": "paper",
          "y": 0.175,
          "yanchor": "bottom",
          "yref": "paper"
         },
         {
          "font": {
           "size": 16
          },
          "showarrow": false,
          "text": "Topic 13",
          "x": 0.36250000000000004,
          "xanchor": "center",
          "xref": "paper",
          "y": 0.175,
          "yanchor": "bottom",
          "yref": "paper"
         }
        ],
        "height": 1000,
        "hoverlabel": {
         "bgcolor": "white",
         "font": {
          "family": "Rockwell",
          "size": 16
         }
        },
        "showlegend": false,
        "template": {
         "data": {
          "bar": [
           {
            "error_x": {
             "color": "#2a3f5f"
            },
            "error_y": {
             "color": "#2a3f5f"
            },
            "marker": {
             "line": {
              "color": "white",
              "width": 0.5
             },
             "pattern": {
              "fillmode": "overlay",
              "size": 10,
              "solidity": 0.2
             }
            },
            "type": "bar"
           }
          ],
          "barpolar": [
           {
            "marker": {
             "line": {
              "color": "white",
              "width": 0.5
             },
             "pattern": {
              "fillmode": "overlay",
              "size": 10,
              "solidity": 0.2
             }
            },
            "type": "barpolar"
           }
          ],
          "carpet": [
           {
            "aaxis": {
             "endlinecolor": "#2a3f5f",
             "gridcolor": "#C8D4E3",
             "linecolor": "#C8D4E3",
             "minorgridcolor": "#C8D4E3",
             "startlinecolor": "#2a3f5f"
            },
            "baxis": {
             "endlinecolor": "#2a3f5f",
             "gridcolor": "#C8D4E3",
             "linecolor": "#C8D4E3",
             "minorgridcolor": "#C8D4E3",
             "startlinecolor": "#2a3f5f"
            },
            "type": "carpet"
           }
          ],
          "choropleth": [
           {
            "colorbar": {
             "outlinewidth": 0,
             "ticks": ""
            },
            "type": "choropleth"
           }
          ],
          "contour": [
           {
            "colorbar": {
             "outlinewidth": 0,
             "ticks": ""
            },
            "colorscale": [
             [
              0,
              "#0d0887"
             ],
             [
              0.1111111111111111,
              "#46039f"
             ],
             [
              0.2222222222222222,
              "#7201a8"
             ],
             [
              0.3333333333333333,
              "#9c179e"
             ],
             [
              0.4444444444444444,
              "#bd3786"
             ],
             [
              0.5555555555555556,
              "#d8576b"
             ],
             [
              0.6666666666666666,
              "#ed7953"
             ],
             [
              0.7777777777777778,
              "#fb9f3a"
             ],
             [
              0.8888888888888888,
              "#fdca26"
             ],
             [
              1,
              "#f0f921"
             ]
            ],
            "type": "contour"
           }
          ],
          "contourcarpet": [
           {
            "colorbar": {
             "outlinewidth": 0,
             "ticks": ""
            },
            "type": "contourcarpet"
           }
          ],
          "heatmap": [
           {
            "colorbar": {
             "outlinewidth": 0,
             "ticks": ""
            },
            "colorscale": [
             [
              0,
              "#0d0887"
             ],
             [
              0.1111111111111111,
              "#46039f"
             ],
             [
              0.2222222222222222,
              "#7201a8"
             ],
             [
              0.3333333333333333,
              "#9c179e"
             ],
             [
              0.4444444444444444,
              "#bd3786"
             ],
             [
              0.5555555555555556,
              "#d8576b"
             ],
             [
              0.6666666666666666,
              "#ed7953"
             ],
             [
              0.7777777777777778,
              "#fb9f3a"
             ],
             [
              0.8888888888888888,
              "#fdca26"
             ],
             [
              1,
              "#f0f921"
             ]
            ],
            "type": "heatmap"
           }
          ],
          "heatmapgl": [
           {
            "colorbar": {
             "outlinewidth": 0,
             "ticks": ""
            },
            "colorscale": [
             [
              0,
              "#0d0887"
             ],
             [
              0.1111111111111111,
              "#46039f"
             ],
             [
              0.2222222222222222,
              "#7201a8"
             ],
             [
              0.3333333333333333,
              "#9c179e"
             ],
             [
              0.4444444444444444,
              "#bd3786"
             ],
             [
              0.5555555555555556,
              "#d8576b"
             ],
             [
              0.6666666666666666,
              "#ed7953"
             ],
             [
              0.7777777777777778,
              "#fb9f3a"
             ],
             [
              0.8888888888888888,
              "#fdca26"
             ],
             [
              1,
              "#f0f921"
             ]
            ],
            "type": "heatmapgl"
           }
          ],
          "histogram": [
           {
            "marker": {
             "pattern": {
              "fillmode": "overlay",
              "size": 10,
              "solidity": 0.2
             }
            },
            "type": "histogram"
           }
          ],
          "histogram2d": [
           {
            "colorbar": {
             "outlinewidth": 0,
             "ticks": ""
            },
            "colorscale": [
             [
              0,
              "#0d0887"
             ],
             [
              0.1111111111111111,
              "#46039f"
             ],
             [
              0.2222222222222222,
              "#7201a8"
             ],
             [
              0.3333333333333333,
              "#9c179e"
             ],
             [
              0.4444444444444444,
              "#bd3786"
             ],
             [
              0.5555555555555556,
              "#d8576b"
             ],
             [
              0.6666666666666666,
              "#ed7953"
             ],
             [
              0.7777777777777778,
              "#fb9f3a"
             ],
             [
              0.8888888888888888,
              "#fdca26"
             ],
             [
              1,
              "#f0f921"
             ]
            ],
            "type": "histogram2d"
           }
          ],
          "histogram2dcontour": [
           {
            "colorbar": {
             "outlinewidth": 0,
             "ticks": ""
            },
            "colorscale": [
             [
              0,
              "#0d0887"
             ],
             [
              0.1111111111111111,
              "#46039f"
             ],
             [
              0.2222222222222222,
              "#7201a8"
             ],
             [
              0.3333333333333333,
              "#9c179e"
             ],
             [
              0.4444444444444444,
              "#bd3786"
             ],
             [
              0.5555555555555556,
              "#d8576b"
             ],
             [
              0.6666666666666666,
              "#ed7953"
             ],
             [
              0.7777777777777778,
              "#fb9f3a"
             ],
             [
              0.8888888888888888,
              "#fdca26"
             ],
             [
              1,
              "#f0f921"
             ]
            ],
            "type": "histogram2dcontour"
           }
          ],
          "mesh3d": [
           {
            "colorbar": {
             "outlinewidth": 0,
             "ticks": ""
            },
            "type": "mesh3d"
           }
          ],
          "parcoords": [
           {
            "line": {
             "colorbar": {
              "outlinewidth": 0,
              "ticks": ""
             }
            },
            "type": "parcoords"
           }
          ],
          "pie": [
           {
            "automargin": true,
            "type": "pie"
           }
          ],
          "scatter": [
           {
            "fillpattern": {
             "fillmode": "overlay",
             "size": 10,
             "solidity": 0.2
            },
            "type": "scatter"
           }
          ],
          "scatter3d": [
           {
            "line": {
             "colorbar": {
              "outlinewidth": 0,
              "ticks": ""
             }
            },
            "marker": {
             "colorbar": {
              "outlinewidth": 0,
              "ticks": ""
             }
            },
            "type": "scatter3d"
           }
          ],
          "scattercarpet": [
           {
            "marker": {
             "colorbar": {
              "outlinewidth": 0,
              "ticks": ""
             }
            },
            "type": "scattercarpet"
           }
          ],
          "scattergeo": [
           {
            "marker": {
             "colorbar": {
              "outlinewidth": 0,
              "ticks": ""
             }
            },
            "type": "scattergeo"
           }
          ],
          "scattergl": [
           {
            "marker": {
             "colorbar": {
              "outlinewidth": 0,
              "ticks": ""
             }
            },
            "type": "scattergl"
           }
          ],
          "scattermapbox": [
           {
            "marker": {
             "colorbar": {
              "outlinewidth": 0,
              "ticks": ""
             }
            },
            "type": "scattermapbox"
           }
          ],
          "scatterpolar": [
           {
            "marker": {
             "colorbar": {
              "outlinewidth": 0,
              "ticks": ""
             }
            },
            "type": "scatterpolar"
           }
          ],
          "scatterpolargl": [
           {
            "marker": {
             "colorbar": {
              "outlinewidth": 0,
              "ticks": ""
             }
            },
            "type": "scatterpolargl"
           }
          ],
          "scatterternary": [
           {
            "marker": {
             "colorbar": {
              "outlinewidth": 0,
              "ticks": ""
             }
            },
            "type": "scatterternary"
           }
          ],
          "surface": [
           {
            "colorbar": {
             "outlinewidth": 0,
             "ticks": ""
            },
            "colorscale": [
             [
              0,
              "#0d0887"
             ],
             [
              0.1111111111111111,
              "#46039f"
             ],
             [
              0.2222222222222222,
              "#7201a8"
             ],
             [
              0.3333333333333333,
              "#9c179e"
             ],
             [
              0.4444444444444444,
              "#bd3786"
             ],
             [
              0.5555555555555556,
              "#d8576b"
             ],
             [
              0.6666666666666666,
              "#ed7953"
             ],
             [
              0.7777777777777778,
              "#fb9f3a"
             ],
             [
              0.8888888888888888,
              "#fdca26"
             ],
             [
              1,
              "#f0f921"
             ]
            ],
            "type": "surface"
           }
          ],
          "table": [
           {
            "cells": {
             "fill": {
              "color": "#EBF0F8"
             },
             "line": {
              "color": "white"
             }
            },
            "header": {
             "fill": {
              "color": "#C8D4E3"
             },
             "line": {
              "color": "white"
             }
            },
            "type": "table"
           }
          ]
         },
         "layout": {
          "annotationdefaults": {
           "arrowcolor": "#2a3f5f",
           "arrowhead": 0,
           "arrowwidth": 1
          },
          "autotypenumbers": "strict",
          "coloraxis": {
           "colorbar": {
            "outlinewidth": 0,
            "ticks": ""
           }
          },
          "colorscale": {
           "diverging": [
            [
             0,
             "#8e0152"
            ],
            [
             0.1,
             "#c51b7d"
            ],
            [
             0.2,
             "#de77ae"
            ],
            [
             0.3,
             "#f1b6da"
            ],
            [
             0.4,
             "#fde0ef"
            ],
            [
             0.5,
             "#f7f7f7"
            ],
            [
             0.6,
             "#e6f5d0"
            ],
            [
             0.7,
             "#b8e186"
            ],
            [
             0.8,
             "#7fbc41"
            ],
            [
             0.9,
             "#4d9221"
            ],
            [
             1,
             "#276419"
            ]
           ],
           "sequential": [
            [
             0,
             "#0d0887"
            ],
            [
             0.1111111111111111,
             "#46039f"
            ],
            [
             0.2222222222222222,
             "#7201a8"
            ],
            [
             0.3333333333333333,
             "#9c179e"
            ],
            [
             0.4444444444444444,
             "#bd3786"
            ],
            [
             0.5555555555555556,
             "#d8576b"
            ],
            [
             0.6666666666666666,
             "#ed7953"
            ],
            [
             0.7777777777777778,
             "#fb9f3a"
            ],
            [
             0.8888888888888888,
             "#fdca26"
            ],
            [
             1,
             "#f0f921"
            ]
           ],
           "sequentialminus": [
            [
             0,
             "#0d0887"
            ],
            [
             0.1111111111111111,
             "#46039f"
            ],
            [
             0.2222222222222222,
             "#7201a8"
            ],
            [
             0.3333333333333333,
             "#9c179e"
            ],
            [
             0.4444444444444444,
             "#bd3786"
            ],
            [
             0.5555555555555556,
             "#d8576b"
            ],
            [
             0.6666666666666666,
             "#ed7953"
            ],
            [
             0.7777777777777778,
             "#fb9f3a"
            ],
            [
             0.8888888888888888,
             "#fdca26"
            ],
            [
             1,
             "#f0f921"
            ]
           ]
          },
          "colorway": [
           "#636efa",
           "#EF553B",
           "#00cc96",
           "#ab63fa",
           "#FFA15A",
           "#19d3f3",
           "#FF6692",
           "#B6E880",
           "#FF97FF",
           "#FECB52"
          ],
          "font": {
           "color": "#2a3f5f"
          },
          "geo": {
           "bgcolor": "white",
           "lakecolor": "white",
           "landcolor": "white",
           "showlakes": true,
           "showland": true,
           "subunitcolor": "#C8D4E3"
          },
          "hoverlabel": {
           "align": "left"
          },
          "hovermode": "closest",
          "mapbox": {
           "style": "light"
          },
          "paper_bgcolor": "white",
          "plot_bgcolor": "white",
          "polar": {
           "angularaxis": {
            "gridcolor": "#EBF0F8",
            "linecolor": "#EBF0F8",
            "ticks": ""
           },
           "bgcolor": "white",
           "radialaxis": {
            "gridcolor": "#EBF0F8",
            "linecolor": "#EBF0F8",
            "ticks": ""
           }
          },
          "scene": {
           "xaxis": {
            "backgroundcolor": "white",
            "gridcolor": "#DFE8F3",
            "gridwidth": 2,
            "linecolor": "#EBF0F8",
            "showbackground": true,
            "ticks": "",
            "zerolinecolor": "#EBF0F8"
           },
           "yaxis": {
            "backgroundcolor": "white",
            "gridcolor": "#DFE8F3",
            "gridwidth": 2,
            "linecolor": "#EBF0F8",
            "showbackground": true,
            "ticks": "",
            "zerolinecolor": "#EBF0F8"
           },
           "zaxis": {
            "backgroundcolor": "white",
            "gridcolor": "#DFE8F3",
            "gridwidth": 2,
            "linecolor": "#EBF0F8",
            "showbackground": true,
            "ticks": "",
            "zerolinecolor": "#EBF0F8"
           }
          },
          "shapedefaults": {
           "line": {
            "color": "#2a3f5f"
           }
          },
          "ternary": {
           "aaxis": {
            "gridcolor": "#DFE8F3",
            "linecolor": "#A2B1C6",
            "ticks": ""
           },
           "baxis": {
            "gridcolor": "#DFE8F3",
            "linecolor": "#A2B1C6",
            "ticks": ""
           },
           "bgcolor": "white",
           "caxis": {
            "gridcolor": "#DFE8F3",
            "linecolor": "#A2B1C6",
            "ticks": ""
           }
          },
          "title": {
           "x": 0.05
          },
          "xaxis": {
           "automargin": true,
           "gridcolor": "#EBF0F8",
           "linecolor": "#EBF0F8",
           "ticks": "",
           "title": {
            "standoff": 15
           },
           "zerolinecolor": "#EBF0F8",
           "zerolinewidth": 2
          },
          "yaxis": {
           "automargin": true,
           "gridcolor": "#EBF0F8",
           "linecolor": "#EBF0F8",
           "ticks": "",
           "title": {
            "standoff": 15
           },
           "zerolinecolor": "#EBF0F8",
           "zerolinewidth": 2
          }
         }
        },
        "title": {
         "font": {
          "color": "Black",
          "size": 22
         },
         "text": "Topic Word Scores",
         "x": 0.5,
         "xanchor": "center",
         "yanchor": "top"
        },
        "width": 1000,
        "xaxis": {
         "anchor": "y",
         "domain": [
          0,
          0.175
         ],
         "showgrid": true
        },
        "xaxis10": {
         "anchor": "y10",
         "domain": [
          0.275,
          0.45
         ],
         "showgrid": true
        },
        "xaxis11": {
         "anchor": "y11",
         "domain": [
          0.55,
          0.7250000000000001
         ],
         "showgrid": true
        },
        "xaxis12": {
         "anchor": "y12",
         "domain": [
          0.825,
          1
         ],
         "showgrid": true
        },
        "xaxis13": {
         "anchor": "y13",
         "domain": [
          0,
          0.175
         ],
         "showgrid": true
        },
        "xaxis14": {
         "anchor": "y14",
         "domain": [
          0.275,
          0.45
         ],
         "showgrid": true
        },
        "xaxis15": {
         "anchor": "y15",
         "domain": [
          0.55,
          0.7250000000000001
         ],
         "showgrid": true
        },
        "xaxis16": {
         "anchor": "y16",
         "domain": [
          0.825,
          1
         ],
         "showgrid": true
        },
        "xaxis2": {
         "anchor": "y2",
         "domain": [
          0.275,
          0.45
         ],
         "showgrid": true
        },
        "xaxis3": {
         "anchor": "y3",
         "domain": [
          0.55,
          0.7250000000000001
         ],
         "showgrid": true
        },
        "xaxis4": {
         "anchor": "y4",
         "domain": [
          0.825,
          1
         ],
         "showgrid": true
        },
        "xaxis5": {
         "anchor": "y5",
         "domain": [
          0,
          0.175
         ],
         "showgrid": true
        },
        "xaxis6": {
         "anchor": "y6",
         "domain": [
          0.275,
          0.45
         ],
         "showgrid": true
        },
        "xaxis7": {
         "anchor": "y7",
         "domain": [
          0.55,
          0.7250000000000001
         ],
         "showgrid": true
        },
        "xaxis8": {
         "anchor": "y8",
         "domain": [
          0.825,
          1
         ],
         "showgrid": true
        },
        "xaxis9": {
         "anchor": "y9",
         "domain": [
          0,
          0.175
         ],
         "showgrid": true
        },
        "yaxis": {
         "anchor": "x",
         "domain": [
          0.825,
          1
         ],
         "showgrid": true
        },
        "yaxis10": {
         "anchor": "x10",
         "domain": [
          0.275,
          0.45
         ],
         "showgrid": true
        },
        "yaxis11": {
         "anchor": "x11",
         "domain": [
          0.275,
          0.45
         ],
         "showgrid": true
        },
        "yaxis12": {
         "anchor": "x12",
         "domain": [
          0.275,
          0.45
         ],
         "showgrid": true
        },
        "yaxis13": {
         "anchor": "x13",
         "domain": [
          0,
          0.175
         ],
         "showgrid": true
        },
        "yaxis14": {
         "anchor": "x14",
         "domain": [
          0,
          0.175
         ],
         "showgrid": true
        },
        "yaxis15": {
         "anchor": "x15",
         "domain": [
          0,
          0.175
         ],
         "showgrid": true
        },
        "yaxis16": {
         "anchor": "x16",
         "domain": [
          0,
          0.175
         ],
         "showgrid": true
        },
        "yaxis2": {
         "anchor": "x2",
         "domain": [
          0.825,
          1
         ],
         "showgrid": true
        },
        "yaxis3": {
         "anchor": "x3",
         "domain": [
          0.825,
          1
         ],
         "showgrid": true
        },
        "yaxis4": {
         "anchor": "x4",
         "domain": [
          0.825,
          1
         ],
         "showgrid": true
        },
        "yaxis5": {
         "anchor": "x5",
         "domain": [
          0.55,
          0.7250000000000001
         ],
         "showgrid": true
        },
        "yaxis6": {
         "anchor": "x6",
         "domain": [
          0.55,
          0.7250000000000001
         ],
         "showgrid": true
        },
        "yaxis7": {
         "anchor": "x7",
         "domain": [
          0.55,
          0.7250000000000001
         ],
         "showgrid": true
        },
        "yaxis8": {
         "anchor": "x8",
         "domain": [
          0.55,
          0.7250000000000001
         ],
         "showgrid": true
        },
        "yaxis9": {
         "anchor": "x9",
         "domain": [
          0.275,
          0.45
         ],
         "showgrid": true
        }
       }
      }
     },
     "metadata": {},
     "output_type": "display_data"
    }
   ],
   "source": [
    "# Visualize topics as a barchart\n",
    "topic_model.visualize_barchart(top_n_topics=15)"
   ]
  },
  {
   "cell_type": "code",
   "execution_count": 34,
   "metadata": {},
   "outputs": [
    {
     "data": {
      "text/html": [
       "<div>\n",
       "<style scoped>\n",
       "    .dataframe tbody tr th:only-of-type {\n",
       "        vertical-align: middle;\n",
       "    }\n",
       "\n",
       "    .dataframe tbody tr th {\n",
       "        vertical-align: top;\n",
       "    }\n",
       "\n",
       "    .dataframe thead th {\n",
       "        text-align: right;\n",
       "    }\n",
       "</style>\n",
       "<table border=\"1\" class=\"dataframe\">\n",
       "  <thead>\n",
       "    <tr style=\"text-align: right;\">\n",
       "      <th></th>\n",
       "      <th>Topic</th>\n",
       "      <th>Count</th>\n",
       "      <th>Name</th>\n",
       "      <th>Representation</th>\n",
       "      <th>Representative_Docs</th>\n",
       "    </tr>\n",
       "  </thead>\n",
       "  <tbody>\n",
       "    <tr>\n",
       "      <th>1</th>\n",
       "      <td>0</td>\n",
       "      <td>9427</td>\n",
       "      <td>0_rt_orfimzentrum_övp_petrovic</td>\n",
       "      <td>[rt, orfimzentrum, övp, petrovic, covid, long,...</td>\n",
       "      <td>[rt @orfimzentrum: 💬„milde verläufe nutzen nic...</td>\n",
       "    </tr>\n",
       "    <tr>\n",
       "      <th>0</th>\n",
       "      <td>-1</td>\n",
       "      <td>4028</td>\n",
       "      <td>-1_rt_schon_orf_mehr</td>\n",
       "      <td>[rt, schon, orf, mehr, ja, impfpflicht, reiter...</td>\n",
       "      <td>[rt @bertieroberts54: also eine frage beschäft...</td>\n",
       "    </tr>\n",
       "    <tr>\n",
       "      <th>2</th>\n",
       "      <td>1</td>\n",
       "      <td>1336</td>\n",
       "      <td>1_impfpflicht_impfung_rt_virus</td>\n",
       "      <td>[impfpflicht, impfung, rt, virus, verschiedene...</td>\n",
       "      <td>[rt @shourahashemi: nein lieber gust, „das vir...</td>\n",
       "    </tr>\n",
       "    <tr>\n",
       "      <th>3</th>\n",
       "      <td>2</td>\n",
       "      <td>450</td>\n",
       "      <td>2_3000_kind_hungrig_verständigen</td>\n",
       "      <td>[3000, kind, hungrig, verständigen, wichtigste...</td>\n",
       "      <td>[rt @mom_inst: \"wir sollten uns darauf verstän...</td>\n",
       "    </tr>\n",
       "    <tr>\n",
       "      <th>4</th>\n",
       "      <td>3</td>\n",
       "      <td>424</td>\n",
       "      <td>3_österreich_lafilledevienne_inflation_menschen</td>\n",
       "      <td>[österreich, lafilledevienne, inflation, mensc...</td>\n",
       "      <td>[rt @lafilledevienne: 289.000 menschen sind in...</td>\n",
       "    </tr>\n",
       "    <tr>\n",
       "      <th>5</th>\n",
       "      <td>4</td>\n",
       "      <td>244</td>\n",
       "      <td>4_museum_dollfuss_dollfuß_zeitgemäß</td>\n",
       "      <td>[museum, dollfuss, dollfuß, zeitgemäß, wöginge...</td>\n",
       "      <td>[rt @dieraffa: wöginger: „wegen dem dollfuß-mu...</td>\n",
       "    </tr>\n",
       "  </tbody>\n",
       "</table>\n",
       "</div>"
      ],
      "text/plain": [
       "   Topic  Count                                             Name  \\\n",
       "1      0   9427                   0_rt_orfimzentrum_övp_petrovic   \n",
       "0     -1   4028                             -1_rt_schon_orf_mehr   \n",
       "2      1   1336                   1_impfpflicht_impfung_rt_virus   \n",
       "3      2    450                 2_3000_kind_hungrig_verständigen   \n",
       "4      3    424  3_österreich_lafilledevienne_inflation_menschen   \n",
       "5      4    244              4_museum_dollfuss_dollfuß_zeitgemäß   \n",
       "\n",
       "                                      Representation  \\\n",
       "1  [rt, orfimzentrum, övp, petrovic, covid, long,...   \n",
       "0  [rt, schon, orf, mehr, ja, impfpflicht, reiter...   \n",
       "2  [impfpflicht, impfung, rt, virus, verschiedene...   \n",
       "3  [3000, kind, hungrig, verständigen, wichtigste...   \n",
       "4  [österreich, lafilledevienne, inflation, mensc...   \n",
       "5  [museum, dollfuss, dollfuß, zeitgemäß, wöginge...   \n",
       "\n",
       "                                 Representative_Docs  \n",
       "1  [rt @orfimzentrum: 💬„milde verläufe nutzen nic...  \n",
       "0  [rt @bertieroberts54: also eine frage beschäft...  \n",
       "2  [rt @shourahashemi: nein lieber gust, „das vir...  \n",
       "3  [rt @mom_inst: \"wir sollten uns darauf verstän...  \n",
       "4  [rt @lafilledevienne: 289.000 menschen sind in...  \n",
       "5  [rt @dieraffa: wöginger: „wegen dem dollfuß-mu...  "
      ]
     },
     "execution_count": 34,
     "metadata": {},
     "output_type": "execute_result"
    }
   ],
   "source": [
    "#sort topics by frequency\n",
    "df_topics = topic_model.get_topic_info()\n",
    "df_topics = df_topics.sort_values('Count', ascending=False)\n",
    "df_topics.head(6)"
   ]
  },
  {
   "cell_type": "markdown",
   "metadata": {},
   "source": [
    "The provided excerpts represent different topics identified through topic modeling from tweets related to the Austrian public TV show \"Im Zentrum\" and the hashtag #imzentrum during the specified timeframe. Let's briefly discuss each identified topic:\n",
    "\n",
    "1. **Topic 1: Long COVID and Neurological Aspects**\n",
    "   - Keywords: ['rt', 'orfimzentrum', 'övp', 'petrovic', 'covid', 'long', 'neurostingl', 'milde', 'verläufe', 'warum']\n",
    "   - Representative Documents: Tweets highlighting the importance of understanding the long-term effects of mild COVID-19 cases, particularly emphasizing insights from a neurologist (Neurostingl).\n",
    "\n",
    "2. **Topic 2: Criticism of ORF and Impfpflicht (Vaccination Obligation)**\n",
    "   - Keywords: ['rt', 'schon', 'orf', 'mehr', 'ja', 'impfpflicht', 'reiterec', 'heute', 'orfimzentrum', 'zib2']\n",
    "   - Representative Documents: Tweets expressing questions and criticism about the need for certain guests on the show, as well as discussions about the vaccination obligation and related programs (ZIB2).\n",
    "\n",
    "3. **Topic 3: Skepticism and Critique on Virus Response and Impfpflicht**\n",
    "   - Keywords: ['impfpflicht', 'impfung', 'rt', 'virus', 'verschiedene', 'niemanden', 'shourahashemi', 'infektion', 'schützt', 'beschäftig']\n",
    "   - Representative Documents: Tweets expressing skepticism and critique related to virus response, questioning the efficacy of various vaccines, and criticizing the focus on vaccination obligation.\n",
    "\n",
    "4. **Topic 4: Social Issues - Child Hunger**\n",
    "   - Keywords: ['3000', 'kind', 'hungrig', 'verständigen', 'wichtigste', 'sozia', 'mom_inst', 'bett', 'trifft', 'sollten']\n",
    "   - Representative Documents: Tweets discussing the importance of addressing child hunger and the suggestion to agree on not letting any child go to bed hungry.\n",
    "\n",
    "5. **Topic 5: Social and Economic Challenges in Austria**\n",
    "   - Keywords: ['österreich', 'lafilledevienne', 'inflation', 'menschen', '000', 'einmalzahlungen', 'könnten', 'haushalten', 'rt', 'sozialleistungen']\n",
    "   - Representative Documents: Tweets highlighting social and economic challenges in Austria, including discussions on working poor, inflation, and the financial situation of households."
   ]
  }
 ],
 "metadata": {
  "kernelspec": {
   "display_name": "base",
   "language": "python",
   "name": "python3"
  },
  "language_info": {
   "codemirror_mode": {
    "name": "ipython",
    "version": 3
   },
   "file_extension": ".py",
   "mimetype": "text/x-python",
   "name": "python",
   "nbconvert_exporter": "python",
   "pygments_lexer": "ipython3",
   "version": "3.11.5"
  }
 },
 "nbformat": 4,
 "nbformat_minor": 2
}
