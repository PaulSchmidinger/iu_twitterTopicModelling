{
 "cells": [
  {
   "cell_type": "code",
   "execution_count": 1,
   "metadata": {},
   "outputs": [],
   "source": [
    "from datetime import datetime\n",
    "import glob\n",
    "import pandas as pd\n",
    "import re"
   ]
  },
  {
   "cell_type": "code",
   "execution_count": 2,
   "metadata": {},
   "outputs": [],
   "source": [
    "#functions\n",
    "def createTwDB():\n",
    "    \"\"\"\n",
    "    Creates a consolidated DataFrame from multiple CSV files containing tweet data,\n",
    "    and saves the resulting DataFrame to a CSV file.\n",
    "\n",
    "    Returns:\n",
    "    str: The filename of the saved CSV file containing all the tweets.\n",
    "    \"\"\"\n",
    "    all_files = glob.glob(\"savedTweets/*/*.csv\")\n",
    "\n",
    "    #ceate df from all files\n",
    "    li_tw_files = []\n",
    "    for f in all_files:\n",
    "        df = pd.read_csv(f, index_col=None, header=None, sep=\"\\t\")\n",
    "        li_tw_files.append(df)\n",
    "    df_tw = pd.concat(li_tw_files, axis=0, ignore_index=True)\n",
    "    df_tw.columns = ['id', 'user', 'created_at', 'source', 'in_reply_to_status_id', 'in_reply_to_user_id', 'in_reply_to_screen_name', 'retweet_count', 'text']\n",
    "    df_tw = df_tw.set_index(\"id\")\n",
    "\n",
    "    #save df\n",
    "    filename = \"savedTweets/db_all_tweets.csv\"\n",
    "    df_tw.to_csv(filename, sep=\"\\t\", encoding=\"utf-8\")\n",
    "\n",
    "    return filename\n",
    "\n",
    "\n",
    "def extract_hashtags(text):\n",
    "    \"\"\"\n",
    "    Extracts hashtags from the given text.\n",
    "\n",
    "    Args:\n",
    "    text (str): The text from which hashtags will be extracted.\n",
    "\n",
    "    Returns:\n",
    "    list: A list of hashtags found in the given text.\n",
    "    \"\"\"\n",
    "\n",
    "    return re.findall(r'#\\w+', text)"
   ]
  },
  {
   "cell_type": "code",
   "execution_count": 3,
   "metadata": {},
   "outputs": [],
   "source": [
    "#create tweet-database\n",
    "csv_tweets = createTwDB()"
   ]
  },
  {
   "cell_type": "code",
   "execution_count": 7,
   "metadata": {},
   "outputs": [
    {
     "data": {
      "text/html": [
       "<div>\n",
       "<style scoped>\n",
       "    .dataframe tbody tr th:only-of-type {\n",
       "        vertical-align: middle;\n",
       "    }\n",
       "\n",
       "    .dataframe tbody tr th {\n",
       "        vertical-align: top;\n",
       "    }\n",
       "\n",
       "    .dataframe thead th {\n",
       "        text-align: right;\n",
       "    }\n",
       "</style>\n",
       "<table border=\"1\" class=\"dataframe\">\n",
       "  <thead>\n",
       "    <tr style=\"text-align: right;\">\n",
       "      <th></th>\n",
       "      <th>id</th>\n",
       "      <th>user</th>\n",
       "      <th>created_at</th>\n",
       "      <th>source</th>\n",
       "      <th>in_reply_to_status_id</th>\n",
       "      <th>in_reply_to_user_id</th>\n",
       "      <th>in_reply_to_screen_name</th>\n",
       "      <th>retweet_count</th>\n",
       "      <th>text</th>\n",
       "    </tr>\n",
       "  </thead>\n",
       "  <tbody>\n",
       "    <tr>\n",
       "      <th>0</th>\n",
       "      <td>1457452860258520000</td>\n",
       "      <td>PaulSchmidinger</td>\n",
       "      <td>2021-11-07 21:00:14+00:00</td>\n",
       "      <td>Twitter Web App</td>\n",
       "      <td>NaN</td>\n",
       "      <td>NaN</td>\n",
       "      <td>NaN</td>\n",
       "      <td>0</td>\n",
       "      <td>Gleich geht's los! #ImZentrum</td>\n",
       "    </tr>\n",
       "    <tr>\n",
       "      <th>1</th>\n",
       "      <td>1457452886959480000</td>\n",
       "      <td>PaulSchmidinger</td>\n",
       "      <td>2021-11-07 21:00:21+00:00</td>\n",
       "      <td>Twitter Web App</td>\n",
       "      <td>NaN</td>\n",
       "      <td>NaN</td>\n",
       "      <td>NaN</td>\n",
       "      <td>0</td>\n",
       "      <td>Gleich geht's los mit ImZentrum</td>\n",
       "    </tr>\n",
       "    <tr>\n",
       "      <th>2</th>\n",
       "      <td>1457454027030020000</td>\n",
       "      <td>ExplainSimple</td>\n",
       "      <td>2021-11-07 21:04:52+00:00</td>\n",
       "      <td>Twitter Web App</td>\n",
       "      <td>NaN</td>\n",
       "      <td>222435529</td>\n",
       "      <td>ORFImZentrum</td>\n",
       "      <td>0</td>\n",
       "      <td>@ORFImZentrum Welchen radikalen Wandel es welt...</td>\n",
       "    </tr>\n",
       "    <tr>\n",
       "      <th>3</th>\n",
       "      <td>1457455881650670000</td>\n",
       "      <td>YveBiskupska</td>\n",
       "      <td>2021-11-07 21:12:15+00:00</td>\n",
       "      <td>Twitter for Android</td>\n",
       "      <td>NaN</td>\n",
       "      <td>NaN</td>\n",
       "      <td>NaN</td>\n",
       "      <td>0</td>\n",
       "      <td>Club of Rome ... das des no wer kennt... Heute...</td>\n",
       "    </tr>\n",
       "    <tr>\n",
       "      <th>4</th>\n",
       "      <td>1457457694214860000</td>\n",
       "      <td>StefanKaineder</td>\n",
       "      <td>2021-11-07 21:19:27+00:00</td>\n",
       "      <td>Twitter for iPhone</td>\n",
       "      <td>NaN</td>\n",
       "      <td>NaN</td>\n",
       "      <td>NaN</td>\n",
       "      <td>0</td>\n",
       "      <td>Jetzt geht’s los! Heute #imzentrum mit @reiter...</td>\n",
       "    </tr>\n",
       "  </tbody>\n",
       "</table>\n",
       "</div>"
      ],
      "text/plain": [
       "                    id             user                 created_at  \\\n",
       "0  1457452860258520000  PaulSchmidinger  2021-11-07 21:00:14+00:00   \n",
       "1  1457452886959480000  PaulSchmidinger  2021-11-07 21:00:21+00:00   \n",
       "2  1457454027030020000    ExplainSimple  2021-11-07 21:04:52+00:00   \n",
       "3  1457455881650670000     YveBiskupska  2021-11-07 21:12:15+00:00   \n",
       "4  1457457694214860000   StefanKaineder  2021-11-07 21:19:27+00:00   \n",
       "\n",
       "                source in_reply_to_status_id in_reply_to_user_id  \\\n",
       "0      Twitter Web App                   NaN                 NaN   \n",
       "1      Twitter Web App                   NaN                 NaN   \n",
       "2      Twitter Web App                   NaN           222435529   \n",
       "3  Twitter for Android                   NaN                 NaN   \n",
       "4   Twitter for iPhone                   NaN                 NaN   \n",
       "\n",
       "  in_reply_to_screen_name  retweet_count  \\\n",
       "0                     NaN              0   \n",
       "1                     NaN              0   \n",
       "2            ORFImZentrum              0   \n",
       "3                     NaN              0   \n",
       "4                     NaN              0   \n",
       "\n",
       "                                                text  \n",
       "0                      Gleich geht's los! #ImZentrum  \n",
       "1                    Gleich geht's los mit ImZentrum  \n",
       "2  @ORFImZentrum Welchen radikalen Wandel es welt...  \n",
       "3  Club of Rome ... das des no wer kennt... Heute...  \n",
       "4  Jetzt geht’s los! Heute #imzentrum mit @reiter...  "
      ]
     },
     "execution_count": 7,
     "metadata": {},
     "output_type": "execute_result"
    }
   ],
   "source": [
    "#create dataframe from tweet-database\n",
    "df_all_tweets = pd.read_csv(csv_tweets, sep = '\\t', encoding = 'utf-8')\n",
    "df_all_tweets.head()"
   ]
  },
  {
   "cell_type": "code",
   "execution_count": 5,
   "metadata": {},
   "outputs": [
    {
     "name": "stderr",
     "output_type": "stream",
     "text": [
      "C:\\Users\\PaulSchmidinger\\AppData\\Local\\Temp\\ipykernel_5224\\3187439074.py:3: SettingWithCopyWarning: \n",
      "A value is trying to be set on a copy of a slice from a DataFrame.\n",
      "Try using .loc[row_indexer,col_indexer] = value instead\n",
      "\n",
      "See the caveats in the documentation: https://pandas.pydata.org/pandas-docs/stable/user_guide/indexing.html#returning-a-view-versus-a-copy\n",
      "  df_tweets['text'] = df_tweets['text'].str.lower()\n"
     ]
    },
    {
     "data": {
      "text/html": [
       "<div>\n",
       "<style scoped>\n",
       "    .dataframe tbody tr th:only-of-type {\n",
       "        vertical-align: middle;\n",
       "    }\n",
       "\n",
       "    .dataframe tbody tr th {\n",
       "        vertical-align: top;\n",
       "    }\n",
       "\n",
       "    .dataframe thead th {\n",
       "        text-align: right;\n",
       "    }\n",
       "</style>\n",
       "<table border=\"1\" class=\"dataframe\">\n",
       "  <thead>\n",
       "    <tr style=\"text-align: right;\">\n",
       "      <th></th>\n",
       "      <th>id</th>\n",
       "      <th>user</th>\n",
       "      <th>text</th>\n",
       "    </tr>\n",
       "  </thead>\n",
       "  <tbody>\n",
       "    <tr>\n",
       "      <th>0</th>\n",
       "      <td>1457452860258520000</td>\n",
       "      <td>PaulSchmidinger</td>\n",
       "      <td>gleich geht's los! #imzentrum</td>\n",
       "    </tr>\n",
       "    <tr>\n",
       "      <th>1</th>\n",
       "      <td>1457452886959480000</td>\n",
       "      <td>PaulSchmidinger</td>\n",
       "      <td>gleich geht's los mit imzentrum</td>\n",
       "    </tr>\n",
       "    <tr>\n",
       "      <th>2</th>\n",
       "      <td>1457454027030020000</td>\n",
       "      <td>ExplainSimple</td>\n",
       "      <td>@orfimzentrum welchen radikalen wandel es welt...</td>\n",
       "    </tr>\n",
       "    <tr>\n",
       "      <th>3</th>\n",
       "      <td>1457455881650670000</td>\n",
       "      <td>YveBiskupska</td>\n",
       "      <td>club of rome ... das des no wer kennt... heute...</td>\n",
       "    </tr>\n",
       "    <tr>\n",
       "      <th>4</th>\n",
       "      <td>1457457694214860000</td>\n",
       "      <td>StefanKaineder</td>\n",
       "      <td>jetzt geht’s los! heute #imzentrum mit @reiter...</td>\n",
       "    </tr>\n",
       "  </tbody>\n",
       "</table>\n",
       "</div>"
      ],
      "text/plain": [
       "                    id             user  \\\n",
       "0  1457452860258520000  PaulSchmidinger   \n",
       "1  1457452886959480000  PaulSchmidinger   \n",
       "2  1457454027030020000    ExplainSimple   \n",
       "3  1457455881650670000     YveBiskupska   \n",
       "4  1457457694214860000   StefanKaineder   \n",
       "\n",
       "                                                text  \n",
       "0                      gleich geht's los! #imzentrum  \n",
       "1                    gleich geht's los mit imzentrum  \n",
       "2  @orfimzentrum welchen radikalen wandel es welt...  \n",
       "3  club of rome ... das des no wer kennt... heute...  \n",
       "4  jetzt geht’s los! heute #imzentrum mit @reiter...  "
      ]
     },
     "execution_count": 5,
     "metadata": {},
     "output_type": "execute_result"
    }
   ],
   "source": [
    "#select relevant columns and preprocess text\n",
    "df_tweets = df_all_tweets[['id','user','text']]\n",
    "df_tweets['text'] = df_tweets['text'].str.lower()\n",
    "df_tweets.head()"
   ]
  },
  {
   "cell_type": "code",
   "execution_count": 8,
   "metadata": {},
   "outputs": [
    {
     "data": {
      "text/html": [
       "<div>\n",
       "<style scoped>\n",
       "    .dataframe tbody tr th:only-of-type {\n",
       "        vertical-align: middle;\n",
       "    }\n",
       "\n",
       "    .dataframe tbody tr th {\n",
       "        vertical-align: top;\n",
       "    }\n",
       "\n",
       "    .dataframe thead th {\n",
       "        text-align: right;\n",
       "    }\n",
       "</style>\n",
       "<table border=\"1\" class=\"dataframe\">\n",
       "  <thead>\n",
       "    <tr style=\"text-align: right;\">\n",
       "      <th></th>\n",
       "      <th>id</th>\n",
       "    </tr>\n",
       "    <tr>\n",
       "      <th>user</th>\n",
       "      <th></th>\n",
       "    </tr>\n",
       "  </thead>\n",
       "  <tbody>\n",
       "    <tr>\n",
       "      <th>KnutOgris</th>\n",
       "      <td>211</td>\n",
       "    </tr>\n",
       "    <tr>\n",
       "      <th>ORFImZentrum</th>\n",
       "      <td>155</td>\n",
       "    </tr>\n",
       "    <tr>\n",
       "      <th>drakkalas</th>\n",
       "      <td>151</td>\n",
       "    </tr>\n",
       "    <tr>\n",
       "      <th>TraudePinter</th>\n",
       "      <td>117</td>\n",
       "    </tr>\n",
       "    <tr>\n",
       "      <th>Mhs_ThatFace</th>\n",
       "      <td>104</td>\n",
       "    </tr>\n",
       "    <tr>\n",
       "      <th>marcus_didius</th>\n",
       "      <td>86</td>\n",
       "    </tr>\n",
       "    <tr>\n",
       "      <th>grafkaroly</th>\n",
       "      <td>84</td>\n",
       "    </tr>\n",
       "    <tr>\n",
       "      <th>reiterec</th>\n",
       "      <td>81</td>\n",
       "    </tr>\n",
       "    <tr>\n",
       "      <th>uebersleben</th>\n",
       "      <td>81</td>\n",
       "    </tr>\n",
       "    <tr>\n",
       "      <th>zuschoen</th>\n",
       "      <td>77</td>\n",
       "    </tr>\n",
       "  </tbody>\n",
       "</table>\n",
       "</div>"
      ],
      "text/plain": [
       "                id\n",
       "user              \n",
       "KnutOgris      211\n",
       "ORFImZentrum   155\n",
       "drakkalas      151\n",
       "TraudePinter   117\n",
       "Mhs_ThatFace   104\n",
       "marcus_didius   86\n",
       "grafkaroly      84\n",
       "reiterec        81\n",
       "uebersleben     81\n",
       "zuschoen        77"
      ]
     },
     "execution_count": 8,
     "metadata": {},
     "output_type": "execute_result"
    }
   ],
   "source": [
    "#count tweets per user\t\n",
    "df_tweets_count = df_tweets[['id','user']].groupby('user').count().sort_values(by='id',ascending=False)\n",
    "df_tweets_count.head(10)"
   ]
  },
  {
   "cell_type": "code",
   "execution_count": 9,
   "metadata": {},
   "outputs": [
    {
     "data": {
      "text/plain": [
       "hashtag\n",
       "#longcovid      298\n",
       "#zib2           268\n",
       "#petrovic       258\n",
       "#impfpflicht    235\n",
       "#orf            169\n",
       "#övp            152\n",
       "#wöginger       108\n",
       "#reich          102\n",
       "#im              99\n",
       "#sideletter      96\n",
       "dtype: int64"
      ]
     },
     "execution_count": 9,
     "metadata": {},
     "output_type": "execute_result"
    }
   ],
   "source": [
    "#extract hashtags\n",
    "df_tweets['hashtags'] = df_tweets['text'].apply(extract_hashtags)\n",
    "li_hashtags=[item for sublist in df_tweets['hashtags'].tolist() for item in sublist]\n",
    "df_hashtags = pd.DataFrame(li_hashtags, columns=['hashtag'])\n",
    "\n",
    "#count hashtags\n",
    "df_hashtags_count = df_hashtags.groupby('hashtag').size().sort_values(ascending=False)\n",
    "df_hashtags_count = df_hashtags_count.drop('#imzentrum')\n",
    "df_hashtags_count.head(10)"
   ]
  },
  {
   "cell_type": "markdown",
   "metadata": {},
   "source": [
    "# Topic modelling"
   ]
  },
  {
   "cell_type": "code",
   "execution_count": 26,
   "metadata": {},
   "outputs": [],
   "source": [
    "#topic modelling with bertopic\n",
    "from bertopic import BERTopic\n",
    "from sentence_transformers import SentenceTransformer\n",
    "from sentence_transformers import SentenceTransformer, util\n",
    "from umap import UMAP\n",
    "from hdbscan import HDBSCAN\n",
    "from sklearn.feature_extraction.text import CountVectorizer\n",
    "from bertopic.vectorizers import ClassTfidfTransformer\n",
    "import nltk"
   ]
  },
  {
   "cell_type": "code",
   "execution_count": 29,
   "metadata": {},
   "outputs": [
    {
     "name": "stderr",
     "output_type": "stream",
     "text": [
      "[nltk_data] Downloading package stopwords to\n",
      "[nltk_data]     C:\\Users\\PaulSchmidinger\\AppData\\Roaming\\nltk_data...\n",
      "[nltk_data]   Package stopwords is already up-to-date!\n"
     ]
    }
   ],
   "source": [
    "#download stopwords\n",
    "nltk.download('stopwords')\n",
    "german_stopwords = nltk.corpus.stopwords.words('german')\n",
    "\n",
    "# Define the model\n",
    "embedding_model = SentenceTransformer('paraphrase-multilingual-MiniLM-L12-v2')\n",
    "\n",
    "umap_model = UMAP(n_neighbors=15, n_components=5, min_dist=0.0, metric='cosine')\n",
    "hdbscan_model = HDBSCAN(min_cluster_size=15, metric='euclidean', cluster_selection_method='eom', prediction_data=True)\n",
    "vectorizer_model = CountVectorizer(stop_words=german_stopwords)\n",
    "ctfidf_model = ClassTfidfTransformer()\n",
    "\n",
    "# Create the model\n",
    "topic_model = BERTopic(\n",
    "  embedding_model=embedding_model,\n",
    "  umap_model=umap_model,\n",
    "  hdbscan_model=hdbscan_model,\n",
    "  vectorizer_model=vectorizer_model,\n",
    "  ctfidf_model=ctfidf_model,\n",
    "  calculate_probabilities=True,        \n",
    "  verbose=True,\n",
    "  language=\"german\"\n",
    ")"
   ]
  },
  {
   "cell_type": "code",
   "execution_count": 30,
   "metadata": {},
   "outputs": [
    {
     "name": "stderr",
     "output_type": "stream",
     "text": [
      "2024-01-28 21:30:43,122 - BERTopic - Embedding - Transforming documents to embeddings.\n"
     ]
    },
    {
     "data": {
      "application/vnd.jupyter.widget-view+json": {
       "model_id": "68138b8aa42642f7a222adafa9a647ab",
       "version_major": 2,
       "version_minor": 0
      },
      "text/plain": [
       "Batches:   0%|          | 0/513 [00:00<?, ?it/s]"
      ]
     },
     "metadata": {},
     "output_type": "display_data"
    }
   ],
   "source": [
    "# Fit the model to data\n",
    "topics, _ = topic_model.fit_transform(df_tweets['text'])"
   ]
  },
  {
   "cell_type": "code",
   "execution_count": null,
   "metadata": {},
   "outputs": [],
   "source": [
    "# Get topics\n",
    "topic_model.get_topic_info()"
   ]
  },
  {
   "cell_type": "code",
   "execution_count": null,
   "metadata": {},
   "outputs": [],
   "source": [
    "# Visualize topics\n",
    "topic_model.visualize_topics()"
   ]
  },
  {
   "cell_type": "code",
   "execution_count": null,
   "metadata": {},
   "outputs": [],
   "source": [
    "# Visualize topics as a barchart\n",
    "topic_model.visualize_barchart(top_n_topics=10)"
   ]
  },
  {
   "cell_type": "code",
   "execution_count": null,
   "metadata": {},
   "outputs": [],
   "source": [
    "# Get the most frequent topics\n",
    "topic_model.get_topic_freq()"
   ]
  },
  {
   "cell_type": "code",
   "execution_count": null,
   "metadata": {},
   "outputs": [],
   "source": [
    "# Get the most representative tweets for each topic\n",
    "topic_model.get_representative_docs()"
   ]
  }
 ],
 "metadata": {
  "kernelspec": {
   "display_name": "base",
   "language": "python",
   "name": "python3"
  },
  "language_info": {
   "codemirror_mode": {
    "name": "ipython",
    "version": 3
   },
   "file_extension": ".py",
   "mimetype": "text/x-python",
   "name": "python",
   "nbconvert_exporter": "python",
   "pygments_lexer": "ipython3",
   "version": "3.11.5"
  }
 },
 "nbformat": 4,
 "nbformat_minor": 2
}
